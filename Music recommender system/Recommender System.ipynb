{
 "cells": [
  {
   "cell_type": "markdown",
   "metadata": {},
   "source": [
    "2018 Edition"
   ]
  },
  {
   "cell_type": "markdown",
   "metadata": {},
   "source": [
    "# Building a music recommender system\n",
    "\n",
    "As its name implies, a recommender system is a tool that helps predicting what a user may or may not like among a list of given items. In some sense, you can view this as an alternative to content search, as recommendation engines help users discover products or content that they may not come across otherwise. For example, Facebook suggests friends and pages to users. Youtube recommends videos which users may be interested in. Amazon suggests the products which users may need... Recommendation engines engage users to services, can be seen as a revenue optimization process, and in general help maintaining interest in a service.\n",
    "\n",
    "In this notebook, we study how to build a simple recommender system: we focus on music recommendations, and we use a simple algorithm to predict which items users might like, that is called ALS, alternating least squares.\n",
    "\n",
    "## Goals\n",
    "\n",
    "In this lecture, we expect students to:\n",
    "\n",
    "- Revisit (or learn) recommender algorithms\n",
    "\n",
    "- Understand the idea of Matrix Factorization and the ALS algorithm (serial and parallel versions)\n",
    "\n",
    "- Build a simple model for a real usecase: music recommender system\n",
    "\n",
    "- Understand how to validate the results\n",
    "\n",
    "## Steps\n",
    "\n",
    "We assume students to work outside lab hours on the learning material. These are the steps by which we guide students, during labs, to build a good basis for the end-to-end development of a recommender system:\n",
    "\n",
    "* Inspect the data using Spark SQL, and build some basic, but very valuable knowledge about the information we have at hand\n",
    "* Formally define what is a sensible algorithm to achieve our goal: given the \"history\" of user taste for music, recommend new music to discover. Essentialy, we want to build a statistical model of user preferences such that we can use it to \"predict\" which additional music the user could like\n",
    "* With our formal definition at hand, we will learn different ways to implement such an algorithm. Our goal here is to illustrate what are the difficulties to overcome when implementing a (parallel) algorithm\n",
    "* Finally, we will focus on an existing implementation, available in the Apache Spark MLLib, which we will use out of the box to build a reliable statistical model\n",
    "\n",
    "Now, you may think at this point we will be done!\n",
    "\n",
    "Well, you'd better think twice: one important topic we will cover in all our Notebooks is **how to validate the results we obtain**, and **how to choose good parameters to train models** especially when using an \"opaque\" library for doing the job. As a consequence, we will focus on the statistical validation of our recommender system.\n"
   ]
  },
  {
   "cell_type": "markdown",
   "metadata": {},
   "source": [
    "# 1. Data\n",
    "\n",
    "Understanding data is one of the most important part when designing any machine learning algorithm. In this notebook, we will use a data set published by Audioscrobbler - a music recommendation system for last.fm. Audioscrobbler is also one of the first internet streaming radio sites, founded in 2002. It provided an open API for “scrobbling”, or recording listeners’ plays of artists’ songs. last.fm used this information to build a powerful music recommender engine.\n",
    "\n",
    "## 1.1. Data schema\n",
    "\n",
    "Unlike a rating dataset which contains information about users' preference for products (one star, 3 stars, and so on), the datasets from Audioscrobbler only has information about events: specifically, it keeps track of how many times a user played songs of a given artist and the names of artists. That means it carries less information than a rating: in the literature, this is called explicit vs. implicit ratings.\n",
    "\n",
    "### Reading material\n",
    "\n",
    "- [Implicit Feedback for Inferring User Preference: A Bibliography](http://people.csail.mit.edu/teevan/work/publications/papers/sigir-forum03.pdf)\n",
    "- [Comparing explicit and implicit feedback techniques for web retrieval: TREC-10 interactive track report](http://trec.nist.gov/pubs/trec10/papers/glasgow.pdf)\n",
    "- [Probabilistic Models for Data Combination in Recommender Systems](http://mlg.eng.cam.ac.uk/pub/pdf/WilGha08.pdf)\n",
    "\n",
    "The data we use in this Notebook is available in 3 files (these files are stored in our HDFS layer, in the directory  ```/datasets/lastfm```):\n",
    "\n",
    "- **`user_artist_data.txt`**: It contains about 140,000+ unique users, and 1.6 million unique artists. About 24.2 million users’ plays of artists’ are recorded, along with their count. It has 3 columns separated by spaces: \n",
    "\n",
    "| UserID | ArtistID | PlayCount |\n",
    "|----|----|----|\n",
    "| ...|...|...|\n",
    "\n",
    "\n",
    "- **`artist_data.txt`** : It prodives the names of each artist by their IDs. It has 2 columns separated by tab characters (`\\t`).\n",
    "\n",
    "| ArtistID | Name |\n",
    "|---|---|\n",
    "|...|...|\n",
    "\n",
    "- **`artist_alias.txt`**: Note that when plays are scrobbled, the client application submits the name of the artist being played. This name could be misspelled or nonstandard. For example, \"The Smiths\", \"Smiths, The\", and \"the smiths\" may appear as distinct artist IDs in the data set, even though they are plainly the same. `artist_alias.txt` maps artist IDs that are known misspellings or variants to the canonical ID of that artist. The data in this file has 2 columns separated by tab characters (`\\t`).\n",
    "\n",
    "| MisspelledArtistID | StandardArtistID |\n",
    "|---|---|\n",
    "|...|...|\n",
    "\n"
   ]
  },
  {
   "cell_type": "markdown",
   "metadata": {},
   "source": [
    "## 1.2. Understanding data: simple descriptive statistic\n",
    "\n",
    "In order to choose or design a suitable algorithm for achieving our goals, given the data we have, we should first understand data characteristics. To start, we import the necessary packages to work with regular expressions, Data Frames, and other nice features of our programming environment."
   ]
  },
  {
   "cell_type": "code",
   "execution_count": 1,
   "metadata": {},
   "outputs": [],
   "source": [
    "import os\n",
    "import sys\n",
    "import re\n",
    "import random\n",
    "from pyspark import SparkContext\n",
    "from pyspark.sql import SQLContext\n",
    "from pyspark.sql.types import *\n",
    "from pyspark.sql import Row\n",
    "from pyspark.sql.functions import *\n",
    "\n",
    "%matplotlib inline\n",
    "import matplotlib.pyplot as plt\n",
    "import pandas as pd\n",
    "import numpy as np\n",
    "from time import time\n",
    "\n",
    "from IPython.display import display, HTML\n",
    "\n",
    "sqlContext = SQLContext(sc)\n",
    "base = \"/datasets/lastfm/\""
   ]
  },
  {
   "cell_type": "markdown",
   "metadata": {},
   "source": [
    "### Question 1\n",
    "\n",
    "#### Question 1.0 (Non-grading)\n",
    "<div class=\"alert alert-info\">\n",
    "Using SPARK SQL, load data from `/datasets/lastfm/user_artist_data.txt` and show the first 20 entries (via function `show()`).\n",
    "</div>\n",
    "\n",
    "For this Notebook, from a programming point of view, we are given the schema for the data we use, which is as follows:\n",
    "\n",
    "```\n",
    "userID: long int\n",
    "artistID: long int\n",
    "playCount: int\n",
    "```\n",
    "\n",
    "Each line of the dataset contains the above three fields, separated by a \"white space\"."
   ]
  },
  {
   "cell_type": "code",
   "execution_count": 2,
   "metadata": {},
   "outputs": [
    {
     "name": "stdout",
     "output_type": "stream",
     "text": [
      "+-------+--------+---------+\n",
      "| userID|artistID|playCount|\n",
      "+-------+--------+---------+\n",
      "|1000002|       1|       55|\n",
      "|1000002| 1000006|       33|\n",
      "|1000002| 1000007|        8|\n",
      "|1000002| 1000009|      144|\n",
      "|1000002| 1000010|      314|\n",
      "|1000002| 1000013|        8|\n",
      "|1000002| 1000014|       42|\n",
      "|1000002| 1000017|       69|\n",
      "|1000002| 1000024|      329|\n",
      "|1000002| 1000025|        1|\n",
      "|1000002| 1000028|       17|\n",
      "|1000002| 1000031|       47|\n",
      "|1000002| 1000033|       15|\n",
      "|1000002| 1000042|        1|\n",
      "|1000002| 1000045|        1|\n",
      "|1000002| 1000054|        2|\n",
      "|1000002| 1000055|       25|\n",
      "|1000002| 1000056|        4|\n",
      "|1000002| 1000059|        2|\n",
      "|1000002| 1000062|       71|\n",
      "+-------+--------+---------+\n",
      "only showing top 20 rows\n",
      "\n"
     ]
    }
   ],
   "source": [
    "userArtistDataSchema = StructType([ \\\n",
    "    StructField(\"userID\", LongType(), True), \\\n",
    "    StructField(\"artistID\", LongType(), True), \\\n",
    "    StructField(\"playCount\", IntegerType(), True)])\n",
    "\n",
    "userArtistDF = sqlContext.read \\\n",
    "    .format('com.databricks.spark.csv') \\\n",
    "    .options(header='false', delimiter=' ') \\\n",
    "    .load(base + \"user_artist_data.txt\", schema = userArtistDataSchema) \\\n",
    "    .cache()\n",
    "\n",
    "# we can cache an Dataframe to avoid computing it from the beginning everytime it is accessed.\n",
    "userArtistDF.cache()\n",
    "\n",
    "userArtistDF.show()"
   ]
  },
  {
   "cell_type": "markdown",
   "metadata": {},
   "source": [
    "#### Question 1.1: \n",
    "<div class=\"alert alert-info\">\n",
    "How many distinct users do we have in our data? \n",
    "</div>"
   ]
  },
  {
   "cell_type": "code",
   "execution_count": 3,
   "metadata": {},
   "outputs": [
    {
     "name": "stdout",
     "output_type": "stream",
     "text": [
      "Total n. of users:  148111\n"
     ]
    }
   ],
   "source": [
    "uniqueUsers = userArtistDF.select(\"userID\").agg(countDistinct(\"userID\")).collect()\n",
    "print(\"Total n. of users: \", uniqueUsers[0][0])"
   ]
  },
  {
   "cell_type": "markdown",
   "metadata": {},
   "source": [
    "#### Question 1.2\n",
    "<div class=\"alert alert-info\">\n",
    "How many distinct artists do we have in our data ?\n",
    "</div>"
   ]
  },
  {
   "cell_type": "code",
   "execution_count": 4,
   "metadata": {},
   "outputs": [
    {
     "name": "stdout",
     "output_type": "stream",
     "text": [
      "Total n. of artists:  1631028\n"
     ]
    }
   ],
   "source": [
    "uniqueArtists = userArtistDF.select(\"artistID\").agg(countDistinct(\"artistID\")).collect()\n",
    "print(\"Total n. of artists: \", uniqueArtists[0][0])"
   ]
  },
  {
   "cell_type": "markdown",
   "metadata": {},
   "source": [
    "#### Question 1.3\n",
    "<div class=\"alert alert-info\">\n",
    "One limitation of Spark MLlib's ALS implementation - which we will use later - is that it requires IDs for users and items to be nonnegative 32-bit integers. This means that IDs larger than `Integer.MAX_VALUE`, or `2147483647`, can't be used. So we need to check whether this data set conforms to the strict requirements of our library.  \n",
    "\n",
    "What are the maximum and minimum values of column `userID` ?  \n",
    "</div>"
   ]
  },
  {
   "cell_type": "code",
   "execution_count": 5,
   "metadata": {},
   "outputs": [
    {
     "name": "stdout",
     "output_type": "stream",
     "text": [
      "Max user id:  2443548\n",
      "Min user id:  90\n"
     ]
    }
   ],
   "source": [
    "max_uid = userArtistDF.agg(max(\"userID\")).collect()\n",
    "min_uid = userArtistDF.agg(min(\"userID\")).collect()\n",
    "print(\"Max user id: \", max_uid[0][0])\n",
    "print(\"Min user id: \", min_uid[0][0])"
   ]
  },
  {
   "cell_type": "markdown",
   "metadata": {},
   "source": [
    "#### Question 1.4\n",
    "<div class=\"alert alert-info\">\n",
    "What is the maximum and minimum values of column `artistID` ?\n",
    "</div>"
   ]
  },
  {
   "cell_type": "code",
   "execution_count": 6,
   "metadata": {},
   "outputs": [
    {
     "name": "stdout",
     "output_type": "stream",
     "text": [
      "Max artist id:  10794401\n",
      "Min artist id:  1\n"
     ]
    }
   ],
   "source": [
    "max_aid=userArtistDF.select(\"artistID\").agg(max(\"artistID\")).collect()\n",
    "min_aid=userArtistDF.select(\"artistID\").agg(min(\"artistID\")).collect()\n",
    "\n",
    "print(\"Max artist id: \", max_aid[0][0])\n",
    "print(\"Min artist id: \", min_aid[0][0])"
   ]
  },
  {
   "cell_type": "markdown",
   "metadata": {},
   "source": [
    "We just discovered that we have a total of 148,111 users in our dataset. Similarly, we have a total of 1,631,028 artists in our dataset. The maximum values of `userID` and `artistID` are still smaller than the biggest number of integer type.  No additional transformation will be necessary to use these IDs.\n",
    "\n",
    "One thing we can see here is that SPARK SQL provides very concise and powerful methods for data analytics (compared to using RDD and their low-level API). You can see more examples [here](https://databricks.com/blog/2015/06/02/statistical-and-mathematical-functions-with-dataframes-in-spark.html)."
   ]
  },
  {
   "cell_type": "markdown",
   "metadata": {},
   "source": [
    "Next, we might want to understand better user activity and artist popularity.\n",
    "\n",
    "Here is a list of simple descriptive queries that helps us reaching these purposes:\n",
    "\n",
    "* How many times each user has played a song? This is a good indicator of who are the most active users of our service. Note that a very active user with many play counts does not necessarily mean that the user is also \"curious\"! Indeed, she could have played the same song several times.\n",
    "* How many play counts for each artist? This is a good indicator of the artist popularity. Since we do not have time information associated to our data, we can only build a, e.g., top-10 ranking of the most popular artists in the dataset. Later in the notebook, we will learn that our dataset has a very \"loose\" definition about artists: very often artist IDs point to song titles as well. This means we have to be careful when establishing popular artists. Indeed, artists whose data is \"well formed\" will have the correct number of play counts associated to them. Instead, artists that appear mixed with song titles may see their play counts \"diluted\" across their songs."
   ]
  },
  {
   "cell_type": "markdown",
   "metadata": {},
   "source": [
    "### Question 2\n",
    "\n",
    "#### Question 2.1\n",
    "<div class=\"alert alert-info\">\n",
    "How many times each user has played a song? Show 5 samples of the result.\n",
    "</div>"
   ]
  },
  {
   "cell_type": "code",
   "execution_count": 7,
   "metadata": {},
   "outputs": [
    {
     "name": "stdout",
     "output_type": "stream",
     "text": [
      "ArtistID Playcount\n",
      "2289066\t 51\n",
      "2289173\t 5938\n",
      "2290086\t 1080\n",
      "2291343\t 37\n",
      "2291463\t 8802\n"
     ]
    }
   ],
   "source": [
    "# Compute user activity\n",
    "# We are interested in how many playcounts each user has scored.\n",
    "userActivity = userArtistDF.groupBy(\"userID\").agg(sum(\"playCount\").alias(\"sumPlaycount\")).collect()\n",
    "print(\"ArtistID Playcount\")\n",
    "for i in range(5):\n",
    "    print(str(userActivity[i][0]) + \"\\t \" + str(userActivity[i][1]))"
   ]
  },
  {
   "cell_type": "markdown",
   "metadata": {},
   "source": [
    "#### Question 2.2\n",
    "<div class=\"alert alert-info\">\n",
    "Plot CDF (or ECDF) of the number of play counts per User ID.  \n",
    "\n",
    "Explain and comment the figure you just created:   \n",
    "<ul>\n",
    "<li>for example, look at important percentiles (25%, median, 75%, tails such as >90%) and cross check with what you have found above to figure out if the result is plausible. </li>\n",
    "<li>discuss about your users, with respect to the application domain we target in the notebook: you will notice that for some users, there is very little interaction with the system, which means that maybe reccommending something to them is going to be more difficult than for other users who interact more with the system. </li>\n",
    "<li>look at outliers and reason about their impact on your reccommender algorithm</li>\n",
    "</ul>\n",
    "</div>"
   ]
  },
  {
   "cell_type": "code",
   "execution_count": 8,
   "metadata": {
    "scrolled": false
   },
   "outputs": [
    {
     "data": {
      "image/png": "[encoded data removed]",
      "text/plain": [
       "<matplotlib.figure.Figure at 0x7f23c60bf4e0>"
      ]
     },
     "metadata": {},
     "output_type": "display_data"
    }
   ],
   "source": [
    "pdf = pd.DataFrame(data=userActivity)\n",
    "Y = np.sort( pdf[1])\n",
    "yvals = np.arange(len(Y))/float(len(Y))\n",
    "\n",
    "# Calculate the percentiles at 25, 50, 75, 90 %\n",
    "percentile = [10, 25, 50, 75, 90]\n",
    "colors = ['black', 'red', 'green', 'blue', 'black']\n",
    "rank = [int(x / 100 * (len(yvals) + 1)) for x in percentile]\n",
    "rank_plot = [yvals[x] for x in rank]\n",
    "percentiles_values_users = [Y[x] for x in rank]\n",
    "\n",
    "plt.figure(figsize=(15, 8))\n",
    "\n",
    "ax = plt.subplot()\n",
    "ax.set_xscale(\"log\")\n",
    "plt.plot(Y, yvals)\n",
    "\n",
    "# plot the percentiles lines and values\n",
    "plt.scatter(percentiles_values_users,\n",
    "            rank_plot, \n",
    "            c = colors,\n",
    "            marker = 'o')\n",
    "ax.vlines(percentiles_values_users, [0], rank_plot, color=colors, linestyle='--')\n",
    "ax.hlines(rank_plot, [0], percentiles_values_users, color=colors, linestyle='--')\n",
    "for i in range(len(rank_plot)):\n",
    "    ax.annotate(\"  \" + str(percentiles_values_users[i]), (percentiles_values_users[i], rank_plot[i]))\n",
    "    \n",
    "plt.xlabel('Play Counts')\n",
    "plt.ylabel('ECDF')\n",
    "plt.grid(True,which=\"both\",ls=\"-\")\n",
    "plt.title('ECDF of number of play counts per User ID')\n",
    "plt.show()"
   ]
  },
  {
   "cell_type": "markdown",
   "metadata": {},
   "source": [
    "<div class=\"alert alert-warning\" align=\"justify\">\n",
    "The ECDF plot shows the distribution of the play counts over the users of the system. In this case the log scale has been used for the play count axis in order to better display the initial rapid increase of the function and visualize the percentiles.<br><br>\n",
    "\n",
    "The main percentiles are marked in the plot in different colors, it is possible to notice that 90% of the users have a play count lower than 6484 which is approximately two orders of magnitude less than the maximum playcount.\n",
    "Moreover between 25% and 75% it is possible to see an increase of just a little bit more than an order of magnitude.<br><br>\n",
    "\n",
    "The long upper tail in the plot suggests the presence of outliers for which the play count is significantly higher than the median. If these users have a diversified spectrum of artists (later just called curiosity), then recommendations will probably be easier because the corresponding region in the utility matrix will be less sparse. However these data are distant from the other observations, therefore we should carefully choose whether to use them or not inside our model.<br><br>\n",
    "\n",
    "It can also be noticed that 10% of the users has a very low play count (less than 33), which could later lead to difficulties in providing them good personalized recommendations (user cold start problem).<br>\n",
    "It is hard for now to make any other comments regarding the influence of the data distribution on the recommender system.\n",
    "</div>"
   ]
  },
  {
   "cell_type": "markdown",
   "metadata": {},
   "source": [
    "#### Question 2.3\n",
    "\n",
    "<div class=\"alert alert-info\">\n",
    "How many play counts for each artist? Plot CDF or ECDF of the result.  \n",
    "\n",
    "Similarly to the previous question, you need to comment and interpret your result: what is the figure telling you?\n",
    "</div>"
   ]
  },
  {
   "cell_type": "code",
   "execution_count": 9,
   "metadata": {},
   "outputs": [],
   "source": [
    "\n",
    "# Compute artist popularity\n",
    "# We are interested in how many playcounts per artist\n",
    "# ATTENTION! Grouping by artistID may be problematic, as stated above.\n",
    "\n",
    "artistPopularity = userArtistDF.groupby(\"artistID\").agg(sum(\"playCount\").alias(\"sumPlaycount\")).collect()"
   ]
  },
  {
   "cell_type": "code",
   "execution_count": 10,
   "metadata": {},
   "outputs": [
    {
     "data": {
      "image/png": "[encoded data removed]",
      "text/plain": [
       "<matplotlib.figure.Figure at 0x7f23bb4e7f28>"
      ]
     },
     "metadata": {},
     "output_type": "display_data"
    }
   ],
   "source": [
    "pdf = pd.DataFrame(data=artistPopularity)\n",
    "Y = np.sort(pdf[1])\n",
    "yvals = np.arange(len(Y))/float(len(Y))\n",
    "\n",
    "# Calculate the percentiles at 25, 50, 75, 90 %\n",
    "percentile = [25, 50, 75, 90]\n",
    "rank = [int(x / 100 * (len(yvals) + 1)) for x in percentile]\n",
    "percentiles_values_art = [Y[x] for x in rank]\n",
    "rank_plot = [yvals[x] for x in rank]\n",
    "colors = ['red', 'green', 'blue', 'black']\n",
    "\n",
    "plt.figure(figsize=(15, 8))\n",
    "\n",
    "ax = plt.subplot()\n",
    "ax.set_xscale(\"log\")\n",
    "\n",
    "# plot the percentiles lines and values\n",
    "plt.scatter(percentiles_values_art, \n",
    "            rank_plot,\n",
    "            c = colors,\n",
    "            marker = 'o')\n",
    "ax.vlines(percentiles_values_art, [0], rank_plot, color=colors, linestyle='--')\n",
    "ax.hlines(rank_plot, [0], percentiles_values_art, color=colors, linestyle='--')\n",
    "for i in range(len(rank_plot)):\n",
    "    ax.annotate(\"  \" + str(percentiles_values_art[i]), (percentiles_values_art[i], rank_plot[i]))\n",
    "\n",
    "plt.plot( Y, yvals)\n",
    "plt.xlabel('Play Counts')\n",
    "plt.ylabel('ECDF')\n",
    "plt.grid(True,which=\"both\",ls=\"-\")\n",
    "plt.title('ECDF of number of play counts per Artist ID (Popularity)')\n",
    "plt.show()"
   ]
  },
  {
   "cell_type": "markdown",
   "metadata": {},
   "source": [
    "<div class=\"alert alert-warning\" align=\"justify\">\n",
    "This ECDF plot shows the distribution of the play counts over the artists in the system. The log scale is required because of the great initial slope of the curve, even steeper than the previous one.<br><br>\n",
    "\n",
    "The main percentiles are located in the left part of the curve, showing that 50% of the artists has a play count between 1 and 11. Moreover more than 25% of the artists have a play count of just one, only 10% has more than 45, and the play count keeps on growing dramatically towards the top artists.<br><br>\n",
    "\n",
    "This kind of curve may be due not only to big differences in artists popularity, but also to the presence of dirty data: mispelled artist, probably focused on the lowest part of the curve.<br>\n",
    "Furthermore, the system will prefer more popular artist to the one with low count, limiting recommendations to just a very small fraction of the artists.<br><br>\n",
    "\n",
    "This last issue is the second embedded limitation of recommendation systems that use an implicit approach based on collaborative filtering.<br>\n",
    "A possible solution could be the addition of a content-based component to the recommender system in order to alleviate the issue using a similarity metric between items.\n",
    "</div>"
   ]
  },
  {
   "cell_type": "markdown",
   "metadata": {},
   "source": [
    "#### Question 2.4\n",
    "<div class=\"alert alert-info\">\n",
    "Plot a bar chart to show top 5 artists In terms of absolute play counts.  \n",
    "\n",
    "Comment the figure you just obtained: \n",
    "<ul>\n",
    "<li>are these reasonable results?</li>\n",
    "<li>is looking at top-5 artists enough to learn more about your data?</li>\n",
    "<li>do you see anything strange in the data?</li>\n",
    "</ul>\n",
    "</div>"
   ]
  },
  {
   "cell_type": "code",
   "execution_count": 11,
   "metadata": {},
   "outputs": [
    {
     "data": {
      "image/png": "[encoded data removed]",
      "text/plain": [
       "<matplotlib.figure.Figure at 0x7f23a444fcc0>"
      ]
     },
     "metadata": {},
     "output_type": "display_data"
    }
   ],
   "source": [
    "sortedArtist = sorted(artistPopularity, key = lambda x: -x[1])[:5]\n",
    "\n",
    "artistID = [w[0] for w in sortedArtist]\n",
    "y_pos = range(len(sortedArtist))\n",
    "frequency = [w[1] for w in sortedArtist]\n",
    "\n",
    "plt.barh(y_pos, frequency[::-1], align='center', alpha=0.4)\n",
    "plt.yticks(y_pos, artistID[::-1])\n",
    "plt.xlabel('Play Count')\n",
    "plt.ylabel('Artist')\n",
    "plt.title('Top-5 Artist ID per play counts')\n",
    "plt.show()"
   ]
  },
  {
   "cell_type": "markdown",
   "metadata": {},
   "source": [
    "<div class=\"alert alert-warning\" align=\"justify\">\n",
    "The results displayed in the bar chart above seem reasonable. They show how top artists have extremely higher play counts compared to the others and, just considering the first five, it's possible to see how quickly the play counts decrease moving away from the head of the rank.<br><br>\n",
    "\n",
    "With this said, it's clear that these data cannot be considered as representative for the whole dataset, since the top five artists surely reside in the long upper tail of the artists play count ECDF plot, which could be interpreted as outliers. However, in this particular case, outliers are just artists more popular than the others, therefore we don't want to remove them but attention must be paid when giving recommendations because we could risk to recommend only famous artists.\n",
    "</div>"
   ]
  },
  {
   "cell_type": "markdown",
   "metadata": {},
   "source": [
    "All seems clear right now, but ... wait a second! What about the problems indicated above about artist \"disambiguation\"? Are these artist ID we are using referring to unique artists? How can we make sure that such \"opaque\" identifiers point to different bands? Let's try to use some additional dataset to answer this question:  `artist_data.txt` dataset. This time, the schema of the dataset consists in:\n",
    "\n",
    "```\n",
    "artist ID: long int\n",
    "name: string\n",
    "```\n",
    "\n",
    "We will try to find whether a single artist has two different IDs."
   ]
  },
  {
   "cell_type": "markdown",
   "metadata": {},
   "source": [
    "### Question 3\n",
    "\n",
    "#### Question 3.1\n",
    "\n",
    "<div class=\"alert alert-info\">\n",
    "Load the data from `/datasets/lastfm/artist_data.txt` and use the SparkSQL API to show 5 samples.  \n",
    "\n",
    "<ul></ul>\n",
    "<div class=\"label label-success\">HINT:</div> If you encounter some error when parsing lines in data because of invalid entries, parameter `mode='DROPMALFORMED'` will help you to eliminate these entries. The suggested syntax is: `<df>.options(header='false', delimiter='\\t', mode='DROPMALFORMED')`.\n",
    "\n",
    "</div>"
   ]
  },
  {
   "cell_type": "code",
   "execution_count": 12,
   "metadata": {},
   "outputs": [
    {
     "data": {
      "text/html": [
       "<div>\n",
       "<style scoped>\n",
       "    .dataframe tbody tr th:only-of-type {\n",
       "        vertical-align: middle;\n",
       "    }\n",
       "\n",
       "    .dataframe tbody tr th {\n",
       "        vertical-align: top;\n",
       "    }\n",
       "\n",
       "    .dataframe thead th {\n",
       "        text-align: right;\n",
       "    }\n",
       "</style>\n",
       "<table border=\"1\" class=\"dataframe\">\n",
       "  <thead>\n",
       "    <tr style=\"text-align: right;\">\n",
       "      <th></th>\n",
       "      <th>artistID</th>\n",
       "      <th>Name</th>\n",
       "    </tr>\n",
       "  </thead>\n",
       "  <tbody>\n",
       "    <tr>\n",
       "      <th>0</th>\n",
       "      <td>1134999</td>\n",
       "      <td>06Crazy Life</td>\n",
       "    </tr>\n",
       "    <tr>\n",
       "      <th>1</th>\n",
       "      <td>6821360</td>\n",
       "      <td>Pang Nakarin</td>\n",
       "    </tr>\n",
       "    <tr>\n",
       "      <th>2</th>\n",
       "      <td>10113088</td>\n",
       "      <td>Terfel, Bartoli- Mozart: Don</td>\n",
       "    </tr>\n",
       "    <tr>\n",
       "      <th>3</th>\n",
       "      <td>10151459</td>\n",
       "      <td>The Flaming Sidebur</td>\n",
       "    </tr>\n",
       "    <tr>\n",
       "      <th>4</th>\n",
       "      <td>6826647</td>\n",
       "      <td>Bodenstandig 3000</td>\n",
       "    </tr>\n",
       "    <tr>\n",
       "      <th>5</th>\n",
       "      <td>10186265</td>\n",
       "      <td>Jota Quest e Ivete Sangalo</td>\n",
       "    </tr>\n",
       "    <tr>\n",
       "      <th>6</th>\n",
       "      <td>6828986</td>\n",
       "      <td>Toto_XX (1977</td>\n",
       "    </tr>\n",
       "    <tr>\n",
       "      <th>7</th>\n",
       "      <td>10236364</td>\n",
       "      <td>U.S Bombs -</td>\n",
       "    </tr>\n",
       "    <tr>\n",
       "      <th>8</th>\n",
       "      <td>1135000</td>\n",
       "      <td>artist formaly know as Mat</td>\n",
       "    </tr>\n",
       "    <tr>\n",
       "      <th>9</th>\n",
       "      <td>10299728</td>\n",
       "      <td>Kassierer - Musik für beide Ohren</td>\n",
       "    </tr>\n",
       "  </tbody>\n",
       "</table>\n",
       "</div>"
      ],
      "text/plain": [
       "   artistID                               Name\n",
       "0   1134999                       06Crazy Life\n",
       "1   6821360                       Pang Nakarin\n",
       "2  10113088       Terfel, Bartoli- Mozart: Don\n",
       "3  10151459                The Flaming Sidebur\n",
       "4   6826647                  Bodenstandig 3000\n",
       "5  10186265         Jota Quest e Ivete Sangalo\n",
       "6   6828986                      Toto_XX (1977\n",
       "7  10236364                        U.S Bombs -\n",
       "8   1135000         artist formaly know as Mat\n",
       "9  10299728  Kassierer - Musik für beide Ohren"
      ]
     },
     "metadata": {},
     "output_type": "display_data"
    }
   ],
   "source": [
    "customSchemaArtist = StructType([ \\\n",
    "    StructField(\"artistID\", LongType(), True), \\\n",
    "    StructField(\"Name\", StringType(), True)])\n",
    "\n",
    "artistDF = sqlContext.read \\\n",
    "    .format('com.databricks.spark.csv') \\\n",
    "    .options(header='false', delimiter='\\t') \\\n",
    "    .load(base + \"artist_data.txt\", schema = customSchemaArtist) \\\n",
    "    .cache()\n",
    "\n",
    "# we can cache an Dataframe to avoid computing it from the beginning everytime it is accessed.\n",
    "artistDF.cache()\n",
    "\n",
    "display(artistDF.limit(10).toPandas())"
   ]
  },
  {
   "cell_type": "markdown",
   "metadata": {},
   "source": [
    "#### Question 3.2\n",
    "<div class=\"alert alert-info\">\n",
    "Find 20 artists whose name contains `Aerosmith`. Take a look at artists that have ID equal to `1000010` and `2082323`. In your opinion, are they pointing to the same artist?  \n",
    "\n",
    "<ul></ul>\n",
    "<div class=\"label label-success\">HINT:</div> Function `locate(sub_string, string)` can be useful in this case.\n",
    "</div>"
   ]
  },
  {
   "cell_type": "code",
   "execution_count": 13,
   "metadata": {},
   "outputs": [
    {
     "data": {
      "text/html": [
       "<div>\n",
       "<style scoped>\n",
       "    .dataframe tbody tr th:only-of-type {\n",
       "        vertical-align: middle;\n",
       "    }\n",
       "\n",
       "    .dataframe tbody tr th {\n",
       "        vertical-align: top;\n",
       "    }\n",
       "\n",
       "    .dataframe thead th {\n",
       "        text-align: right;\n",
       "    }\n",
       "</style>\n",
       "<table border=\"1\" class=\"dataframe\">\n",
       "  <thead>\n",
       "    <tr style=\"text-align: right;\">\n",
       "      <th></th>\n",
       "      <th>artistID</th>\n",
       "      <th>Name</th>\n",
       "    </tr>\n",
       "  </thead>\n",
       "  <tbody>\n",
       "    <tr>\n",
       "      <th>0</th>\n",
       "      <td>10586006</td>\n",
       "      <td>Dusty Springfield/Aerosmith</td>\n",
       "    </tr>\n",
       "    <tr>\n",
       "      <th>1</th>\n",
       "      <td>6946007</td>\n",
       "      <td>Aerosmith/RunDMC</td>\n",
       "    </tr>\n",
       "    <tr>\n",
       "      <th>2</th>\n",
       "      <td>10475683</td>\n",
       "      <td>Aerosmith: Just Push Play</td>\n",
       "    </tr>\n",
       "    <tr>\n",
       "      <th>3</th>\n",
       "      <td>1083031</td>\n",
       "      <td>Aerosmith/ G n R</td>\n",
       "    </tr>\n",
       "    <tr>\n",
       "      <th>4</th>\n",
       "      <td>6872848</td>\n",
       "      <td>Britney, Nsync, Nelly, Aerosmith,Mary J Blige.</td>\n",
       "    </tr>\n",
       "    <tr>\n",
       "      <th>5</th>\n",
       "      <td>10586963</td>\n",
       "      <td>Green Day - Oasis - Eminem - Aerosmith</td>\n",
       "    </tr>\n",
       "    <tr>\n",
       "      <th>6</th>\n",
       "      <td>10028830</td>\n",
       "      <td>The Aerosmith Antology2</td>\n",
       "    </tr>\n",
       "    <tr>\n",
       "      <th>7</th>\n",
       "      <td>10300357</td>\n",
       "      <td>Run-DMC + Aerosmith</td>\n",
       "    </tr>\n",
       "    <tr>\n",
       "      <th>8</th>\n",
       "      <td>2027746</td>\n",
       "      <td>Aerosmith by MusicInter.com</td>\n",
       "    </tr>\n",
       "    <tr>\n",
       "      <th>9</th>\n",
       "      <td>1140418</td>\n",
       "      <td>[rap]Run DMC and Aerosmith</td>\n",
       "    </tr>\n",
       "    <tr>\n",
       "      <th>10</th>\n",
       "      <td>10237208</td>\n",
       "      <td>Aerosmith + Run DMC</td>\n",
       "    </tr>\n",
       "    <tr>\n",
       "      <th>11</th>\n",
       "      <td>10588537</td>\n",
       "      <td>Aerosmith, Kid Rock, &amp; Run DMC</td>\n",
       "    </tr>\n",
       "    <tr>\n",
       "      <th>12</th>\n",
       "      <td>9934757</td>\n",
       "      <td>Aerosmith - Big Ones</td>\n",
       "    </tr>\n",
       "    <tr>\n",
       "      <th>13</th>\n",
       "      <td>10437510</td>\n",
       "      <td>Green Day ft. Oasis &amp; Aerosmith</td>\n",
       "    </tr>\n",
       "    <tr>\n",
       "      <th>14</th>\n",
       "      <td>6936680</td>\n",
       "      <td>RUN DNC &amp; Aerosmith</td>\n",
       "    </tr>\n",
       "    <tr>\n",
       "      <th>15</th>\n",
       "      <td>10479781</td>\n",
       "      <td>Aerosmith Hits</td>\n",
       "    </tr>\n",
       "    <tr>\n",
       "      <th>16</th>\n",
       "      <td>10114147</td>\n",
       "      <td>Charlies Angels - Aerosmith</td>\n",
       "    </tr>\n",
       "    <tr>\n",
       "      <th>17</th>\n",
       "      <td>1262439</td>\n",
       "      <td>Kid Rock, Run DMC &amp; Aerosmith</td>\n",
       "    </tr>\n",
       "    <tr>\n",
       "      <th>18</th>\n",
       "      <td>7032554</td>\n",
       "      <td>Aerosmith &amp; Run-D.M.C.</td>\n",
       "    </tr>\n",
       "    <tr>\n",
       "      <th>19</th>\n",
       "      <td>10033592</td>\n",
       "      <td>Aerosmith?</td>\n",
       "    </tr>\n",
       "  </tbody>\n",
       "</table>\n",
       "</div>"
      ],
      "text/plain": [
       "    artistID                                            Name\n",
       "0   10586006                     Dusty Springfield/Aerosmith\n",
       "1    6946007                                Aerosmith/RunDMC\n",
       "2   10475683                       Aerosmith: Just Push Play\n",
       "3    1083031                                Aerosmith/ G n R\n",
       "4    6872848  Britney, Nsync, Nelly, Aerosmith,Mary J Blige.\n",
       "5   10586963          Green Day - Oasis - Eminem - Aerosmith\n",
       "6   10028830                         The Aerosmith Antology2\n",
       "7   10300357                             Run-DMC + Aerosmith\n",
       "8    2027746                     Aerosmith by MusicInter.com\n",
       "9    1140418                      [rap]Run DMC and Aerosmith\n",
       "10  10237208                             Aerosmith + Run DMC\n",
       "11  10588537                  Aerosmith, Kid Rock, & Run DMC\n",
       "12   9934757                            Aerosmith - Big Ones\n",
       "13  10437510                 Green Day ft. Oasis & Aerosmith\n",
       "14   6936680                             RUN DNC & Aerosmith\n",
       "15  10479781                                  Aerosmith Hits\n",
       "16  10114147                     Charlies Angels - Aerosmith\n",
       "17   1262439                   Kid Rock, Run DMC & Aerosmith\n",
       "18   7032554                          Aerosmith & Run-D.M.C.\n",
       "19  10033592                                      Aerosmith?"
      ]
     },
     "metadata": {},
     "output_type": "display_data"
    },
    {
     "data": {
      "text/html": [
       "<div>\n",
       "<style scoped>\n",
       "    .dataframe tbody tr th:only-of-type {\n",
       "        vertical-align: middle;\n",
       "    }\n",
       "\n",
       "    .dataframe tbody tr th {\n",
       "        vertical-align: top;\n",
       "    }\n",
       "\n",
       "    .dataframe thead th {\n",
       "        text-align: right;\n",
       "    }\n",
       "</style>\n",
       "<table border=\"1\" class=\"dataframe\">\n",
       "  <thead>\n",
       "    <tr style=\"text-align: right;\">\n",
       "      <th></th>\n",
       "      <th>artistID</th>\n",
       "      <th>Name</th>\n",
       "    </tr>\n",
       "  </thead>\n",
       "  <tbody>\n",
       "    <tr>\n",
       "      <th>0</th>\n",
       "      <td>1000010</td>\n",
       "      <td>Aerosmith</td>\n",
       "    </tr>\n",
       "  </tbody>\n",
       "</table>\n",
       "</div>"
      ],
      "text/plain": [
       "   artistID       Name\n",
       "0   1000010  Aerosmith"
      ]
     },
     "metadata": {},
     "output_type": "display_data"
    },
    {
     "data": {
      "text/html": [
       "<div>\n",
       "<style scoped>\n",
       "    .dataframe tbody tr th:only-of-type {\n",
       "        vertical-align: middle;\n",
       "    }\n",
       "\n",
       "    .dataframe tbody tr th {\n",
       "        vertical-align: top;\n",
       "    }\n",
       "\n",
       "    .dataframe thead th {\n",
       "        text-align: right;\n",
       "    }\n",
       "</style>\n",
       "<table border=\"1\" class=\"dataframe\">\n",
       "  <thead>\n",
       "    <tr style=\"text-align: right;\">\n",
       "      <th></th>\n",
       "      <th>artistID</th>\n",
       "      <th>Name</th>\n",
       "    </tr>\n",
       "  </thead>\n",
       "  <tbody>\n",
       "    <tr>\n",
       "      <th>0</th>\n",
       "      <td>2082323</td>\n",
       "      <td>01 Aerosmith</td>\n",
       "    </tr>\n",
       "  </tbody>\n",
       "</table>\n",
       "</div>"
      ],
      "text/plain": [
       "   artistID          Name\n",
       "0   2082323  01 Aerosmith"
      ]
     },
     "metadata": {},
     "output_type": "display_data"
    }
   ],
   "source": [
    "# get artists whose name contains \"Aerosmith\"\n",
    "Aerosmith_Names = artistDF[locate(\"Aerosmith\", artistDF.Name) > 0]\n",
    "display(Aerosmith_Names.limit(20).toPandas())\n",
    "\n",
    "# show two examples\n",
    "aero_artist = artistDF[artistDF.artistID==1000010]\n",
    "display(aero_artist.limit(1).toPandas())\n",
    "\n",
    "aero_artist = artistDF[artistDF.artistID==2082323]\n",
    "display(aero_artist.limit(1).toPandas())"
   ]
  },
  {
   "cell_type": "markdown",
   "metadata": {},
   "source": [
    "<div class=\"alert alert-warning\" align=\"justify\">\n",
    "The IDs 1000010 and 2082323 clearly refer to the same artist. Dirty input data have a bad influence on the recommendation system, leading to poor results. Moreover, cleaning the data could decrease the amount of artists having play count equal to one while increasing the others, resulting in a more fair distribution.<br><br>\n",
    "\n",
    "In the list above, many different mispelled names have been found for the Aerosmith (e.g. \"Aerosmith hits\", \"Aerosmith by MusicInter.com\"). In this particular example it can be noticed how Aerosmith and Run MDC appear together in multiple entries, due to mispells and the fact that the names are connected by different characters (comma, &, ft., /). This suggests that the featuring of multiple artists is a major problem because a single record should increase the play count of every artist participating.\n",
    "</div>"
   ]
  },
  {
   "cell_type": "markdown",
   "metadata": {},
   "source": [
    "To answer this question correctly, we need to use an additional dataset `artist_alias.txt` which contains the ids of mispelled artists and standard artists. The schema of the dataset consists in:\n",
    "\n",
    "```\n",
    "mispelledID ID: long int\n",
    "standard ID: long int\n",
    "```"
   ]
  },
  {
   "cell_type": "markdown",
   "metadata": {},
   "source": [
    "#### Question 3.3\n",
    "<div class=\"alert alert-info\">\n",
    "Using SparkSQL API, load the dataset from `/datasets/lastfm/artist_alias.txt` then show 5 samples.\n",
    "</div>"
   ]
  },
  {
   "cell_type": "code",
   "execution_count": 14,
   "metadata": {},
   "outputs": [
    {
     "data": {
      "text/html": [
       "<div>\n",
       "<style scoped>\n",
       "    .dataframe tbody tr th:only-of-type {\n",
       "        vertical-align: middle;\n",
       "    }\n",
       "\n",
       "    .dataframe tbody tr th {\n",
       "        vertical-align: top;\n",
       "    }\n",
       "\n",
       "    .dataframe thead th {\n",
       "        text-align: right;\n",
       "    }\n",
       "</style>\n",
       "<table border=\"1\" class=\"dataframe\">\n",
       "  <thead>\n",
       "    <tr style=\"text-align: right;\">\n",
       "      <th></th>\n",
       "      <th>mispelledID</th>\n",
       "      <th>standardID</th>\n",
       "    </tr>\n",
       "  </thead>\n",
       "  <tbody>\n",
       "    <tr>\n",
       "      <th>0</th>\n",
       "      <td>1092764</td>\n",
       "      <td>1000311</td>\n",
       "    </tr>\n",
       "    <tr>\n",
       "      <th>1</th>\n",
       "      <td>1095122</td>\n",
       "      <td>1000557</td>\n",
       "    </tr>\n",
       "    <tr>\n",
       "      <th>2</th>\n",
       "      <td>6708070</td>\n",
       "      <td>1007267</td>\n",
       "    </tr>\n",
       "    <tr>\n",
       "      <th>3</th>\n",
       "      <td>10088054</td>\n",
       "      <td>1042317</td>\n",
       "    </tr>\n",
       "    <tr>\n",
       "      <th>4</th>\n",
       "      <td>1195917</td>\n",
       "      <td>1042317</td>\n",
       "    </tr>\n",
       "  </tbody>\n",
       "</table>\n",
       "</div>"
      ],
      "text/plain": [
       "   mispelledID  standardID\n",
       "0      1092764     1000311\n",
       "1      1095122     1000557\n",
       "2      6708070     1007267\n",
       "3     10088054     1042317\n",
       "4      1195917     1042317"
      ]
     },
     "metadata": {},
     "output_type": "display_data"
    }
   ],
   "source": [
    "customSchemaAlias = StructType([ \\\n",
    "    StructField(\"mispelledID\", LongType(), True), \\\n",
    "    StructField(\"standardID\", LongType(), True)])\n",
    "\n",
    "artistAliasDF = sqlContext.read \\\n",
    "    .format('com.databricks.spark.csv') \\\n",
    "    .options(header='false', delimiter='\\t') \\\n",
    "    .load(base + \"artist_alias.txt\", schema = customSchemaAlias) \\\n",
    "    .cache()\n",
    "\n",
    "# we can cache an Dataframe to avoid computing it from the beginning everytime it is accessed.\n",
    "artistAliasDF.cache()\n",
    "\n",
    "display(artistAliasDF.limit(5).toPandas())"
   ]
  },
  {
   "cell_type": "markdown",
   "metadata": {},
   "source": [
    "#### Question 3.4\n",
    "<div class=\"alert alert-info\">\n",
    "Verify the answer of question 3.2 (\"Are artists that have ID equal to `1000010` and `2082323` the same ?\") by finding the standard ids corresponding to the mispelled ids `1000010` and `2082323` respectively.\n",
    "</div>"
   ]
  },
  {
   "cell_type": "code",
   "execution_count": 15,
   "metadata": {},
   "outputs": [
    {
     "data": {
      "text/html": [
       "<div>\n",
       "<style scoped>\n",
       "    .dataframe tbody tr th:only-of-type {\n",
       "        vertical-align: middle;\n",
       "    }\n",
       "\n",
       "    .dataframe tbody tr th {\n",
       "        vertical-align: top;\n",
       "    }\n",
       "\n",
       "    .dataframe thead th {\n",
       "        text-align: right;\n",
       "    }\n",
       "</style>\n",
       "<table border=\"1\" class=\"dataframe\">\n",
       "  <thead>\n",
       "    <tr style=\"text-align: right;\">\n",
       "      <th></th>\n",
       "      <th>mispelledID</th>\n",
       "      <th>standardID</th>\n",
       "    </tr>\n",
       "  </thead>\n",
       "  <tbody>\n",
       "  </tbody>\n",
       "</table>\n",
       "</div>"
      ],
      "text/plain": [
       "Empty DataFrame\n",
       "Columns: [mispelledID, standardID]\n",
       "Index: []"
      ]
     },
     "metadata": {},
     "output_type": "display_data"
    },
    {
     "data": {
      "text/html": [
       "<div>\n",
       "<style scoped>\n",
       "    .dataframe tbody tr th:only-of-type {\n",
       "        vertical-align: middle;\n",
       "    }\n",
       "\n",
       "    .dataframe tbody tr th {\n",
       "        vertical-align: top;\n",
       "    }\n",
       "\n",
       "    .dataframe thead th {\n",
       "        text-align: right;\n",
       "    }\n",
       "</style>\n",
       "<table border=\"1\" class=\"dataframe\">\n",
       "  <thead>\n",
       "    <tr style=\"text-align: right;\">\n",
       "      <th></th>\n",
       "      <th>mispelledID</th>\n",
       "      <th>standardID</th>\n",
       "    </tr>\n",
       "  </thead>\n",
       "  <tbody>\n",
       "    <tr>\n",
       "      <th>0</th>\n",
       "      <td>2082323</td>\n",
       "      <td>1000010</td>\n",
       "    </tr>\n",
       "  </tbody>\n",
       "</table>\n",
       "</div>"
      ],
      "text/plain": [
       "   mispelledID  standardID\n",
       "0      2082323     1000010"
      ]
     },
     "metadata": {},
     "output_type": "display_data"
    }
   ],
   "source": [
    "display(artistAliasDF[artistAliasDF.mispelledID == 1000010].toPandas())\n",
    "display(artistAliasDF[artistAliasDF.mispelledID == 2082323].toPandas())\n",
    "\n",
    "# 1000010 is a standard id, so it hasn't been considered as mispelled id in the dataset"
   ]
  },
  {
   "cell_type": "markdown",
   "metadata": {},
   "source": [
    "### Question 4\n",
    "\n",
    "The mispelled or nonstandard information about artist make our results in the previous queries a bit \"sloppy\". To overcome this problem, we can replace all mispelled artist ids by the corresponding standard ids and re-compute the basic descriptive statistics on the \"amended\" data.\n",
    "First, we construct a \"dictionary\" that maps non-standard ids to a standard ones. Then this \"dictionary\" will be used to replace the mispelled artists.\n",
    "\n",
    "#### Question 4.1\n",
    "<div class=\"alert alert-info\">\n",
    "From data in the dataframe loaded from `/datasets/lastfm/artist_alias.txt`, construct a dictionary that maps each non-standard id to its standard id.  \n",
    "\n",
    "<div class=\"label label-success\">HINT:</div> Instead of using function `collect`, we can use `collectAsMap` to convert the collected data to a dictionary inline.\n",
    "</div>"
   ]
  },
  {
   "cell_type": "code",
   "execution_count": 16,
   "metadata": {},
   "outputs": [],
   "source": [
    "artistAlias = artistAliasDF.rdd.map(lambda row: ( row[0] , row[1] )).collectAsMap()"
   ]
  },
  {
   "cell_type": "markdown",
   "metadata": {},
   "source": [
    "#### Question 4.2\n",
    "<div class=\"alert alert-info\">\n",
    "Using the constructed dictionary in question 4.1, replace the non-standard artist ids in the dataframe that was loaded from `/datasets/lastfm/user_artist_data.txt` by the corresponding standard ids then show 5 samples.\n",
    "</div>\n",
    "\n",
    "\n",
    "**NOTE 1**: If an id doesn't exist in the dictionary as a mispelled id, it is really a standard id.\n",
    "\n",
    "\n",
    "Using funtion `map` on Spark Dataframe will give us an RDD. We can convert this RDD back to Dataframe by using `sqlContext.createDataFrame(rdd_name, sql_schema)`\n",
    "\n",
    "\n",
    "**NOTE 2**: be careful! you need to be able to verify that you indeed solved the problem of having bad artist IDs. In principle, for the new data to be correct, we should to have duplicate pairs (user, artist), potentially with different play counts, right? In answering the question, please **show** that you indeed fixed the problem. "
   ]
  },
  {
   "cell_type": "code",
   "execution_count": 17,
   "metadata": {},
   "outputs": [
    {
     "data": {
      "text/html": [
       "<div>\n",
       "<style scoped>\n",
       "    .dataframe tbody tr th:only-of-type {\n",
       "        vertical-align: middle;\n",
       "    }\n",
       "\n",
       "    .dataframe tbody tr th {\n",
       "        vertical-align: top;\n",
       "    }\n",
       "\n",
       "    .dataframe thead th {\n",
       "        text-align: right;\n",
       "    }\n",
       "</style>\n",
       "<table border=\"1\" class=\"dataframe\">\n",
       "  <thead>\n",
       "    <tr style=\"text-align: right;\">\n",
       "      <th></th>\n",
       "      <th>userID</th>\n",
       "      <th>artistID</th>\n",
       "      <th>playCount</th>\n",
       "    </tr>\n",
       "  </thead>\n",
       "  <tbody>\n",
       "    <tr>\n",
       "      <th>0</th>\n",
       "      <td>1000002</td>\n",
       "      <td>1</td>\n",
       "      <td>55</td>\n",
       "    </tr>\n",
       "    <tr>\n",
       "      <th>1</th>\n",
       "      <td>1000002</td>\n",
       "      <td>1000006</td>\n",
       "      <td>33</td>\n",
       "    </tr>\n",
       "    <tr>\n",
       "      <th>2</th>\n",
       "      <td>1000002</td>\n",
       "      <td>1000007</td>\n",
       "      <td>8</td>\n",
       "    </tr>\n",
       "    <tr>\n",
       "      <th>3</th>\n",
       "      <td>1000002</td>\n",
       "      <td>1000009</td>\n",
       "      <td>144</td>\n",
       "    </tr>\n",
       "    <tr>\n",
       "      <th>4</th>\n",
       "      <td>1000002</td>\n",
       "      <td>1000010</td>\n",
       "      <td>314</td>\n",
       "    </tr>\n",
       "  </tbody>\n",
       "</table>\n",
       "</div>"
      ],
      "text/plain": [
       "    userID  artistID  playCount\n",
       "0  1000002         1         55\n",
       "1  1000002   1000006         33\n",
       "2  1000002   1000007          8\n",
       "3  1000002   1000009        144\n",
       "4  1000002   1000010        314"
      ]
     },
     "metadata": {},
     "output_type": "display_data"
    },
    {
     "name": "stdout",
     "output_type": "stream",
     "text": [
      "The script takes 0.773734 seconds\n"
     ]
    }
   ],
   "source": [
    "from time import time\n",
    "\n",
    "def replaceMispelledIDs(fields):\n",
    "    finalID = artistAlias.get(fields[1], fields[1])\n",
    "    return (fields[0], finalID, fields[2])\n",
    "\n",
    "t0 = time()\n",
    "\n",
    "newUserArtistDF = sqlContext.createDataFrame(\n",
    "    userArtistDF.rdd.map(replaceMispelledIDs), \n",
    "    userArtistDataSchema\n",
    ")\n",
    "\n",
    "t1 = time()\n",
    "\n",
    "display(newUserArtistDF.limit(5).toPandas())\n",
    "\n",
    "print('The script takes %f seconds' %(t1 - t0))"
   ]
  },
  {
   "cell_type": "markdown",
   "metadata": {},
   "source": [
    "#### Question 4.3\n",
    "<div class=\"alert alert-info\">\n",
    "Spark actions are executed through a set of stages, separated by distributed \"shuffle\" operations. Spark can be instructed to **automatically and efficiently** broadcast common data needed by tasks within **each stage**. The data broadcasted this way is cached in **serialized form** and deserialized before running each task.   \n",
    "<ul> </ul>\n",
    "We can thus improve our answer to question 4.2: we can reduce the communication cost by shipping the \"dictionary\" in a more efficient way by using `broadcast variable`. Broadcast variables allow the programmer to keep a read-only variable cached on **each machine** rather than shipping a copy of it with tasks. They are cached in deserialized form. They can be used, for example, to give every node a copy of a large input dataset in an efficient manner.   \n",
    "<ul></ul>\n",
    "The broadcast of variable `v` can be created by `bV = sc.broadcast(v)`. Then value of this broadcast variable can be access via `bV.value`  \n",
    "\n",
    "<ul></ul>\n",
    "To question is then: using a broadcast variable, modify the script in question 4.2 to get better performance in terms of running time.\n",
    "</div>\n"
   ]
  },
  {
   "cell_type": "code",
   "execution_count": 18,
   "metadata": {},
   "outputs": [
    {
     "data": {
      "text/html": [
       "<div>\n",
       "<style scoped>\n",
       "    .dataframe tbody tr th:only-of-type {\n",
       "        vertical-align: middle;\n",
       "    }\n",
       "\n",
       "    .dataframe tbody tr th {\n",
       "        vertical-align: top;\n",
       "    }\n",
       "\n",
       "    .dataframe thead th {\n",
       "        text-align: right;\n",
       "    }\n",
       "</style>\n",
       "<table border=\"1\" class=\"dataframe\">\n",
       "  <thead>\n",
       "    <tr style=\"text-align: right;\">\n",
       "      <th></th>\n",
       "      <th>userID</th>\n",
       "      <th>artistID</th>\n",
       "      <th>playCount</th>\n",
       "    </tr>\n",
       "  </thead>\n",
       "  <tbody>\n",
       "    <tr>\n",
       "      <th>0</th>\n",
       "      <td>1000002</td>\n",
       "      <td>1</td>\n",
       "      <td>55</td>\n",
       "    </tr>\n",
       "    <tr>\n",
       "      <th>1</th>\n",
       "      <td>1000002</td>\n",
       "      <td>1000006</td>\n",
       "      <td>33</td>\n",
       "    </tr>\n",
       "    <tr>\n",
       "      <th>2</th>\n",
       "      <td>1000002</td>\n",
       "      <td>1000007</td>\n",
       "      <td>8</td>\n",
       "    </tr>\n",
       "    <tr>\n",
       "      <th>3</th>\n",
       "      <td>1000002</td>\n",
       "      <td>1000009</td>\n",
       "      <td>144</td>\n",
       "    </tr>\n",
       "    <tr>\n",
       "      <th>4</th>\n",
       "      <td>1000002</td>\n",
       "      <td>1000010</td>\n",
       "      <td>314</td>\n",
       "    </tr>\n",
       "  </tbody>\n",
       "</table>\n",
       "</div>"
      ],
      "text/plain": [
       "    userID  artistID  playCount\n",
       "0  1000002         1         55\n",
       "1  1000002   1000006         33\n",
       "2  1000002   1000007          8\n",
       "3  1000002   1000009        144\n",
       "4  1000002   1000010        314"
      ]
     },
     "metadata": {},
     "output_type": "display_data"
    },
    {
     "name": "stdout",
     "output_type": "stream",
     "text": [
      "The script takes 0.028162 seconds\n"
     ]
    }
   ],
   "source": [
    "from time import time\n",
    "\n",
    "bArtistAlias = sc.broadcast(artistAlias)\n",
    "\n",
    "def replaceMispelledIDs(fields):\n",
    "    finalID = bArtistAlias.value.get(fields[1], fields[1])\n",
    "    return (fields[0], finalID, fields[2])\n",
    "\n",
    "t0 = time()\n",
    "\n",
    "newUserArtistDF = sqlContext.createDataFrame(\n",
    "    userArtistDF.rdd.map(replaceMispelledIDs), \n",
    "    userArtistDataSchema\n",
    ")\n",
    "\n",
    "t1 = time()\n",
    "\n",
    "display(newUserArtistDF.limit(5).toPandas())\n",
    "\n",
    "print('The script takes %f seconds' %(t1-t0))\n",
    "newUserArtistDF = newUserArtistDF.cache()"
   ]
  },
  {
   "cell_type": "markdown",
   "metadata": {},
   "source": [
    "Although having some advantages, explicitly creating broadcast variables is only useful when tasks across multiple stages need the same data or when caching the data in deserialized form is important."
   ]
  },
  {
   "cell_type": "markdown",
   "metadata": {},
   "source": [
    "## Further cleaning\n",
    "<div class=\"alert alert-warning\" align=\"justify\">\n",
    "As already stated above, at the beginning of question 4, this first data cleaning step may not be enough to get the final (clean) data.<br>\n",
    "In order to check if some other cleaning has to be done, some analysis have to be conducted on the data. A good starting point is the artistAlias dataset because it is then used to clean the other one.\n",
    "</div>\n",
    "### Cleaning the artistAlias dataset"
   ]
  },
  {
   "cell_type": "code",
   "execution_count": 19,
   "metadata": {},
   "outputs": [
    {
     "name": "stdout",
     "output_type": "stream",
     "text": [
      "The intersection between the columns contains 45 values\n"
     ]
    }
   ],
   "source": [
    "# Count the number of mispelled ID that remap on mispelledID\n",
    "standardID_column = artistAliasDF.select(artistAliasDF.standardID.alias(\"ID\"))\n",
    "misID_column = artistAliasDF.select(artistAliasDF.mispelledID.alias(\"ID\"))\n",
    "n_remapping_mis = standardID_column.intersect(misID_column).count()\n",
    "print(\"The intersection between the columns contains %d values\" % (n_remapping_mis))"
   ]
  },
  {
   "cell_type": "markdown",
   "metadata": {},
   "source": [
    "<div class=\"alert alert-warning\" align=\"justify\">\n",
    "Since the intersection between the two columns of the dataset in not an empty set, some mispelled IDs will be mapped to standard IDs that are mispelled too. This means that there are either mispelled IDs mapping to the same value or chains of mispelled ID - standard ID.<br>\n",
    "In order to iterate to remove the chains (supposing they are not loops) it is necessary to start by removing the IDs belonging to the first case.\n",
    "</div>\n",
    "#### I case: mispelledID == standardID"
   ]
  },
  {
   "cell_type": "code",
   "execution_count": 20,
   "metadata": {},
   "outputs": [
    {
     "data": {
      "text/html": [
       "<div>\n",
       "<style scoped>\n",
       "    .dataframe tbody tr th:only-of-type {\n",
       "        vertical-align: middle;\n",
       "    }\n",
       "\n",
       "    .dataframe tbody tr th {\n",
       "        vertical-align: top;\n",
       "    }\n",
       "\n",
       "    .dataframe thead th {\n",
       "        text-align: right;\n",
       "    }\n",
       "</style>\n",
       "<table border=\"1\" class=\"dataframe\">\n",
       "  <thead>\n",
       "    <tr style=\"text-align: right;\">\n",
       "      <th></th>\n",
       "      <th>mispelledID</th>\n",
       "      <th>standardID</th>\n",
       "      <th>Name</th>\n",
       "    </tr>\n",
       "  </thead>\n",
       "  <tbody>\n",
       "    <tr>\n",
       "      <th>0</th>\n",
       "      <td>1014609</td>\n",
       "      <td>1014609</td>\n",
       "      <td>Mötley Crüe</td>\n",
       "    </tr>\n",
       "    <tr>\n",
       "      <th>1</th>\n",
       "      <td>1008798</td>\n",
       "      <td>1008798</td>\n",
       "      <td>µ-Ziq</td>\n",
       "    </tr>\n",
       "    <tr>\n",
       "      <th>2</th>\n",
       "      <td>1014175</td>\n",
       "      <td>1014175</td>\n",
       "      <td>Señor Coconut</td>\n",
       "    </tr>\n",
       "    <tr>\n",
       "      <th>3</th>\n",
       "      <td>1006322</td>\n",
       "      <td>1006322</td>\n",
       "      <td>múm</td>\n",
       "    </tr>\n",
       "    <tr>\n",
       "      <th>4</th>\n",
       "      <td>1006347</td>\n",
       "      <td>1006347</td>\n",
       "      <td>Dälek</td>\n",
       "    </tr>\n",
       "    <tr>\n",
       "      <th>5</th>\n",
       "      <td>1167860</td>\n",
       "      <td>1167860</td>\n",
       "      <td>Herman Düne</td>\n",
       "    </tr>\n",
       "    <tr>\n",
       "      <th>6</th>\n",
       "      <td>754</td>\n",
       "      <td>754</td>\n",
       "      <td>Sigur Rós</td>\n",
       "    </tr>\n",
       "    <tr>\n",
       "      <th>7</th>\n",
       "      <td>1013851</td>\n",
       "      <td>1013851</td>\n",
       "      <td>Värttinä</td>\n",
       "    </tr>\n",
       "    <tr>\n",
       "      <th>8</th>\n",
       "      <td>1018110</td>\n",
       "      <td>1018110</td>\n",
       "      <td>Lars Winnerbäck</td>\n",
       "    </tr>\n",
       "    <tr>\n",
       "      <th>9</th>\n",
       "      <td>1001864</td>\n",
       "      <td>1001864</td>\n",
       "      <td>Röyksopp</td>\n",
       "    </tr>\n",
       "    <tr>\n",
       "      <th>10</th>\n",
       "      <td>15</td>\n",
       "      <td>15</td>\n",
       "      <td>Björk</td>\n",
       "    </tr>\n",
       "  </tbody>\n",
       "</table>\n",
       "</div>"
      ],
      "text/plain": [
       "    mispelledID  standardID             Name\n",
       "0       1014609     1014609      Mötley Crüe\n",
       "1       1008798     1008798            µ-Ziq\n",
       "2       1014175     1014175    Señor Coconut\n",
       "3       1006322     1006322              múm\n",
       "4       1006347     1006347            Dälek\n",
       "5       1167860     1167860      Herman Düne\n",
       "6           754         754        Sigur Rós\n",
       "7       1013851     1013851         Värttinä\n",
       "8       1018110     1018110  Lars Winnerbäck\n",
       "9       1001864     1001864         Röyksopp\n",
       "10           15          15            Björk"
      ]
     },
     "metadata": {},
     "output_type": "display_data"
    }
   ],
   "source": [
    "# show artist names corresponding to anomalies in the dataset where mispelledID == standardID\n",
    "selfLoopAliasDF = artistAliasDF[artistAliasDF.mispelledID == artistAliasDF.standardID]\n",
    "selfLoopAliasDF = selfLoopAliasDF.join(artistDF, selfLoopAliasDF.standardID==artistDF.artistID).select(selfLoopAliasDF.mispelledID, selfLoopAliasDF.standardID, artistDF.Name)\n",
    "display(selfLoopAliasDF.toPandas())\n",
    "\n",
    "# remove this values\n",
    "selfLoopAliasList = selfLoopAliasDF.select(selfLoopAliasDF.standardID).rdd.map(lambda x: x[0]).collect()\n",
    "cleanArtistAliasDF = artistAliasDF[artistAliasDF.mispelledID.isin(selfLoopAliasList) == False]\n",
    "cleanArtistAlias = cleanArtistAliasDF.rdd.map(lambda row: (row[0], row[1])).collectAsMap()"
   ]
  },
  {
   "cell_type": "markdown",
   "metadata": {},
   "source": [
    "<div class=\"alert alert-warning\" align=\"justify\">\n",
    "It can be noticed how this anomaly was probably due to the presence of unusual characters (greek or accented letters).<br>\n",
    "</div>\n",
    "\n",
    "#### II case: standardIDs as mispelledIDs [chains]\n",
    "\n",
    "<div class=\"alert alert-warning\" align=\"justify\">\n",
    "Now it is possible to correct the mispelled ID - standard ID chains too.<br>\n",
    "A trivial solution to this problem would have been to repeat multiple times the replaceMispelledIDs operations used above. A more efficient solution is to clean the artistAlias dictionary and then clean the userArtist dataset in just one iteration.<br>\n",
    "The process of cleaning the dictionary can be improved itself by iterating only on the IDs belonging to the chains.\n",
    "</div>"
   ]
  },
  {
   "cell_type": "code",
   "execution_count": 21,
   "metadata": {},
   "outputs": [],
   "source": [
    "# find IDs being part of chains\n",
    "misID_columnDF = cleanArtistAliasDF.select(cleanArtistAliasDF.mispelledID.alias(\"ID\"))\n",
    "standardID_columnDF = cleanArtistAliasDF.select(cleanArtistAliasDF.standardID.alias(\"ID\"))\n",
    "chainsDF = standardID_columnDF.intersect(misID_columnDF)\n",
    "chains_list = chainsDF.rdd.map(lambda x: x[0]).collect()\n",
    "chains = {k: v for k, v in cleanArtistAlias.items() if v in chains_list}"
   ]
  },
  {
   "cell_type": "code",
   "execution_count": 22,
   "metadata": {},
   "outputs": [],
   "source": [
    "# correct the dictionary values by removing chains\n",
    "for k, v in chains.items():\n",
    "    # while the value is also a key of the dictionary substitute the corresponding value\n",
    "    while cleanArtistAlias.get(v) is not None:\n",
    "        cleanArtistAlias[k] = cleanArtistAlias.get(v)\n",
    "        v = cleanArtistAlias.get(k)\n",
    "        \n",
    "# update the dataframe\n",
    "bcleanArtistAlias = sc.broadcast(cleanArtistAlias)\n",
    "\n",
    "cleanArtistAliasDF = sqlContext.createDataFrame(\n",
    "    cleanArtistAliasDF.rdd.map(lambda x: (x[0], bcleanArtistAlias.value.get(x[0]))), \n",
    "    customSchemaAlias\n",
    ")"
   ]
  },
  {
   "cell_type": "markdown",
   "metadata": {},
   "source": [
    "### Cleaning the userArtist dataset\n",
    "\n",
    "<div class=\"alert alert-warning\" align=\"justify\">\n",
    "The artistAlias dataset is clean, a final check on the intersections will be done to make sure that only one step will be needed to clean the userArtist dataset.<br>\n",
    "During the final cleaning, it can be useful (even if computationally expensive) to keep track of the number of unique user IDs. At the beginning of the notebook there were 1631028 different values.\n",
    "</div>"
   ]
  },
  {
   "cell_type": "code",
   "execution_count": 23,
   "metadata": {},
   "outputs": [
    {
     "name": "stdout",
     "output_type": "stream",
     "text": [
      "The intersection between the columns contains 0 values\n"
     ]
    }
   ],
   "source": [
    "standardID_columnDF = cleanArtistAliasDF.select(cleanArtistAliasDF.standardID)\n",
    "misID_columnDF = cleanArtistAliasDF.select(cleanArtistAliasDF.mispelledID)\n",
    "n_remapping_mis = standardID_columnDF.intersect(misID_columnDF).count()\n",
    "print(\"The intersection between the columns contains %d values\" % (n_remapping_mis))"
   ]
  },
  {
   "cell_type": "code",
   "execution_count": 24,
   "metadata": {},
   "outputs": [
    {
     "name": "stdout",
     "output_type": "stream",
     "text": [
      "Total n. of artists:  1568126\n"
     ]
    }
   ],
   "source": [
    "uniqueArtists = newUserArtistDF.select(\"artistID\").agg(countDistinct(\"artistID\")).collect()\n",
    "print(\"Total n. of artists: \", uniqueArtists[0][0])"
   ]
  },
  {
   "cell_type": "code",
   "execution_count": 25,
   "metadata": {},
   "outputs": [
    {
     "name": "stdout",
     "output_type": "stream",
     "text": [
      "+-------+--------+---------+\n",
      "| userID|artistID|playCount|\n",
      "+-------+--------+---------+\n",
      "|1000002|       1|       55|\n",
      "|1000002| 1000006|       33|\n",
      "|1000002| 1000007|        8|\n",
      "|1000002| 1000009|      144|\n",
      "|1000002| 1000010|      314|\n",
      "+-------+--------+---------+\n",
      "only showing top 5 rows\n",
      "\n"
     ]
    }
   ],
   "source": [
    "def replaceMispelledIDs(fields):\n",
    "    finalID = bcleanArtistAlias.value.get(fields[1], fields[1])\n",
    "    return (fields[0], finalID, fields[2])\n",
    "\n",
    "newUserArtistDF = sqlContext.createDataFrame(\n",
    "    userArtistDF.rdd.map(replaceMispelledIDs), \n",
    "    userArtistDataSchema\n",
    ")\n",
    "newUserArtistDF.show(5)\n",
    "\n",
    "newUserArtistDF = newUserArtistDF.cache()"
   ]
  },
  {
   "cell_type": "code",
   "execution_count": 26,
   "metadata": {},
   "outputs": [
    {
     "name": "stdout",
     "output_type": "stream",
     "text": [
      "Total n. of artists:  1568117\n"
     ]
    }
   ],
   "source": [
    "uniqueArtists = newUserArtistDF.select(\"artistID\").agg(countDistinct(\"artistID\")).collect()\n",
    "print(\"Total n. of artists: \", uniqueArtists[0][0])"
   ]
  },
  {
   "cell_type": "markdown",
   "metadata": {},
   "source": [
    "<div class=\"alert alert-warning\" align=\"justify\">\n",
    "Unfortunately, the number of distinct artist IDs decreases by an ephemeral value. In front of a result like this, it is good to keep in mind that a cleaner dataset is always a good result, especially in building a recommender system, because each rating value may influence the others.<br><br>\n",
    "\n",
    "After this cleaning step, the new dataframe may have multilple entries for the user-artist pairs, therefore it is needed to sum the corresponding play counts.\n",
    "</div>"
   ]
  },
  {
   "cell_type": "code",
   "execution_count": 27,
   "metadata": {},
   "outputs": [
    {
     "data": {
      "text/html": [
       "<div>\n",
       "<style scoped>\n",
       "    .dataframe tbody tr th:only-of-type {\n",
       "        vertical-align: middle;\n",
       "    }\n",
       "\n",
       "    .dataframe tbody tr th {\n",
       "        vertical-align: top;\n",
       "    }\n",
       "\n",
       "    .dataframe thead th {\n",
       "        text-align: right;\n",
       "    }\n",
       "</style>\n",
       "<table border=\"1\" class=\"dataframe\">\n",
       "  <thead>\n",
       "    <tr style=\"text-align: right;\">\n",
       "      <th></th>\n",
       "      <th>userID</th>\n",
       "      <th>artistID</th>\n",
       "      <th>n_instances</th>\n",
       "    </tr>\n",
       "  </thead>\n",
       "  <tbody>\n",
       "    <tr>\n",
       "      <th>0</th>\n",
       "      <td>1000072</td>\n",
       "      <td>1009302</td>\n",
       "      <td>2</td>\n",
       "    </tr>\n",
       "    <tr>\n",
       "      <th>1</th>\n",
       "      <td>1000594</td>\n",
       "      <td>2073327</td>\n",
       "      <td>2</td>\n",
       "    </tr>\n",
       "    <tr>\n",
       "      <th>2</th>\n",
       "      <td>1000647</td>\n",
       "      <td>1263049</td>\n",
       "      <td>2</td>\n",
       "    </tr>\n",
       "    <tr>\n",
       "      <th>3</th>\n",
       "      <td>1000783</td>\n",
       "      <td>1013068</td>\n",
       "      <td>2</td>\n",
       "    </tr>\n",
       "    <tr>\n",
       "      <th>4</th>\n",
       "      <td>1000903</td>\n",
       "      <td>1013068</td>\n",
       "      <td>2</td>\n",
       "    </tr>\n",
       "  </tbody>\n",
       "</table>\n",
       "</div>"
      ],
      "text/plain": [
       "    userID  artistID  n_instances\n",
       "0  1000072   1009302            2\n",
       "1  1000594   2073327            2\n",
       "2  1000647   1263049            2\n",
       "3  1000783   1013068            2\n",
       "4  1000903   1013068            2"
      ]
     },
     "metadata": {},
     "output_type": "display_data"
    }
   ],
   "source": [
    "# Find duplicate pairs userID-artistID\n",
    "duplicates=newUserArtistDF.groupBy(\"userID\", \"artistID\").agg(count(\"playCount\").alias(\"n_instances\"))\n",
    "duplicates=duplicates[duplicates.n_instances > 1]\n",
    "display(duplicates.limit(5).toPandas())"
   ]
  },
  {
   "cell_type": "code",
   "execution_count": 28,
   "metadata": {},
   "outputs": [],
   "source": [
    "# Sum play counts of user-artist duplicate pairs\n",
    "newUserArtistDF = newUserArtistDF.groupBy(\"userID\", \"artistID\").agg(sum(\"playCount\").alias(\"playCount\"))"
   ]
  },
  {
   "cell_type": "markdown",
   "metadata": {},
   "source": [
    "<div class=\"alert alert-warning\" align=\"justify\">\n",
    "In order to get a measure of the final cleanliness of the dataset, the 'Aerosmith case' could be analized looking for other clues regarding a dirty dataset.\n",
    "</div>"
   ]
  },
  {
   "cell_type": "code",
   "execution_count": 29,
   "metadata": {},
   "outputs": [
    {
     "name": "stdout",
     "output_type": "stream",
     "text": [
      "Mispelled artist names for Aerosmith: 130\n"
     ]
    }
   ],
   "source": [
    "n_aerosmith_mis = cleanArtistAliasDF[cleanArtistAliasDF.standardID==\"1000010\"].count()\n",
    "print(\"Mispelled artist names for Aerosmith: %d\" % (n_aerosmith_mis))"
   ]
  },
  {
   "cell_type": "code",
   "execution_count": 30,
   "metadata": {},
   "outputs": [
    {
     "name": "stdout",
     "output_type": "stream",
     "text": [
      "Artist names containing 'Aerosmith': 244\n"
     ]
    }
   ],
   "source": [
    "n_artists_containing_aerosmith = artistDF.join(newUserArtistDF, newUserArtistDF.artistID==artistDF.artistID, \"inner\")[locate(\"Aerosmith\", \"Name\") > 0]\\\n",
    "                                .select(artistDF.artistID, artistDF.Name).distinct().count()\n",
    "    \n",
    "print(\"Artist names containing 'Aerosmith': %d\" % (n_artists_containing_aerosmith))"
   ]
  },
  {
   "cell_type": "markdown",
   "metadata": {},
   "source": [
    "<div class=\"alert alert-warning\" align=\"justify\">\n",
    "Since the number of artist names containing 'Aerosmith' is greater than the number of known mispelled artist names linked to Aerosmith, we can deduce that, even if there were no more mispelled names (very unlikely), the 'featuring artist problem' seen before still has a big impact and the final user artist dataset remains dirty.\n",
    "</div>\n",
    "\n",
    "### The [\"unknown\"] case\n",
    "\n",
    "<div class=\"alert alert-warning\" align=\"justify\">\n",
    "A final analysis can be conducted on other anomalies found in the dataset: after running the recommender system, an artist with name '\\[unknown\\]' has been discovered.\n",
    "</div>"
   ]
  },
  {
   "cell_type": "code",
   "execution_count": 31,
   "metadata": {},
   "outputs": [
    {
     "name": "stdout",
     "output_type": "stream",
     "text": [
      "There are 955 artists mapping to the '[unknown]' standardID\n"
     ]
    },
    {
     "data": {
      "text/html": [
       "<div>\n",
       "<style scoped>\n",
       "    .dataframe tbody tr th:only-of-type {\n",
       "        vertical-align: middle;\n",
       "    }\n",
       "\n",
       "    .dataframe tbody tr th {\n",
       "        vertical-align: top;\n",
       "    }\n",
       "\n",
       "    .dataframe thead th {\n",
       "        text-align: right;\n",
       "    }\n",
       "</style>\n",
       "<table border=\"1\" class=\"dataframe\">\n",
       "  <thead>\n",
       "    <tr style=\"text-align: right;\">\n",
       "      <th></th>\n",
       "      <th>Name</th>\n",
       "      <th>mispelledID</th>\n",
       "      <th>standardID</th>\n",
       "    </tr>\n",
       "  </thead>\n",
       "  <tbody>\n",
       "    <tr>\n",
       "      <th>0</th>\n",
       "      <td>新しいアーティスト (313)</td>\n",
       "      <td>10299731</td>\n",
       "      <td>1034635</td>\n",
       "    </tr>\n",
       "    <tr>\n",
       "      <th>1</th>\n",
       "      <td>New Artist (275)</td>\n",
       "      <td>1240704</td>\n",
       "      <td>1034635</td>\n",
       "    </tr>\n",
       "    <tr>\n",
       "      <th>2</th>\n",
       "      <td>e36137f5d3532d89be322de180fa0d8109</td>\n",
       "      <td>1135779</td>\n",
       "      <td>1034635</td>\n",
       "    </tr>\n",
       "    <tr>\n",
       "      <th>3</th>\n",
       "      <td>@@@Tag Me</td>\n",
       "      <td>6776105</td>\n",
       "      <td>1034635</td>\n",
       "    </tr>\n",
       "    <tr>\n",
       "      <th>4</th>\n",
       "      <td>f16baa8a5d7906c4d124a3a5312e6e2109</td>\n",
       "      <td>1135920</td>\n",
       "      <td>1034635</td>\n",
       "    </tr>\n",
       "    <tr>\n",
       "      <th>5</th>\n",
       "      <td>track13 unknown</td>\n",
       "      <td>1241058</td>\n",
       "      <td>1034635</td>\n",
       "    </tr>\n",
       "    <tr>\n",
       "      <th>6</th>\n",
       "      <td>track14 unknown</td>\n",
       "      <td>1241060</td>\n",
       "      <td>1034635</td>\n",
       "    </tr>\n",
       "    <tr>\n",
       "      <th>7</th>\n",
       "      <td>track15 unknown</td>\n",
       "      <td>1241061</td>\n",
       "      <td>1034635</td>\n",
       "    </tr>\n",
       "    <tr>\n",
       "      <th>8</th>\n",
       "      <td>track16 unknown</td>\n",
       "      <td>1241062</td>\n",
       "      <td>1034635</td>\n",
       "    </tr>\n",
       "    <tr>\n",
       "      <th>9</th>\n",
       "      <td>-------</td>\n",
       "      <td>10025238</td>\n",
       "      <td>1034635</td>\n",
       "    </tr>\n",
       "    <tr>\n",
       "      <th>10</th>\n",
       "      <td>[Buffer: 70%] ( CHILL-OUT @ www.radiomax.hu</td>\n",
       "      <td>1244365</td>\n",
       "      <td>1034635</td>\n",
       "    </tr>\n",
       "    <tr>\n",
       "      <th>11</th>\n",
       "      <td>Nieuwe artiest (3)</td>\n",
       "      <td>7004518</td>\n",
       "      <td>1034635</td>\n",
       "    </tr>\n",
       "    <tr>\n",
       "      <th>12</th>\n",
       "      <td>Track19</td>\n",
       "      <td>1244799</td>\n",
       "      <td>1034635</td>\n",
       "    </tr>\n",
       "    <tr>\n",
       "      <th>13</th>\n",
       "      <td>Rock 60´srtist</td>\n",
       "      <td>10026390</td>\n",
       "      <td>1034635</td>\n",
       "    </tr>\n",
       "    <tr>\n",
       "      <th>14</th>\n",
       "      <td>新しいアーティスト (90)</td>\n",
       "      <td>6930040</td>\n",
       "      <td>1034635</td>\n",
       "    </tr>\n",
       "    <tr>\n",
       "      <th>15</th>\n",
       "      <td>Track22</td>\n",
       "      <td>1245875</td>\n",
       "      <td>1034635</td>\n",
       "    </tr>\n",
       "    <tr>\n",
       "      <th>16</th>\n",
       "      <td>[Buffer: 77%] 03</td>\n",
       "      <td>1245995</td>\n",
       "      <td>1034635</td>\n",
       "    </tr>\n",
       "    <tr>\n",
       "      <th>17</th>\n",
       "      <td>[Buffer: 50%] 04</td>\n",
       "      <td>1246526</td>\n",
       "      <td>1034635</td>\n",
       "    </tr>\n",
       "    <tr>\n",
       "      <th>18</th>\n",
       "      <td>[Buffer: 50%] 08</td>\n",
       "      <td>1246534</td>\n",
       "      <td>1034635</td>\n",
       "    </tr>\n",
       "    <tr>\n",
       "      <th>19</th>\n",
       "      <td>新しいアーティスト (47)</td>\n",
       "      <td>6990994</td>\n",
       "      <td>1034635</td>\n",
       "    </tr>\n",
       "  </tbody>\n",
       "</table>\n",
       "</div>"
      ],
      "text/plain": [
       "                                           Name  mispelledID  standardID\n",
       "0                               新しいアーティスト (313)     10299731     1034635\n",
       "1                              New Artist (275)      1240704     1034635\n",
       "2            e36137f5d3532d89be322de180fa0d8109      1135779     1034635\n",
       "3                                     @@@Tag Me      6776105     1034635\n",
       "4            f16baa8a5d7906c4d124a3a5312e6e2109      1135920     1034635\n",
       "5                               track13 unknown      1241058     1034635\n",
       "6                               track14 unknown      1241060     1034635\n",
       "7                               track15 unknown      1241061     1034635\n",
       "8                               track16 unknown      1241062     1034635\n",
       "9                                       -------     10025238     1034635\n",
       "10  [Buffer: 70%] ( CHILL-OUT @ www.radiomax.hu      1244365     1034635\n",
       "11                           Nieuwe artiest (3)      7004518     1034635\n",
       "12                                      Track19      1244799     1034635\n",
       "13                               Rock 60´srtist     10026390     1034635\n",
       "14                               新しいアーティスト (90)      6930040     1034635\n",
       "15                                      Track22      1245875     1034635\n",
       "16                             [Buffer: 77%] 03      1245995     1034635\n",
       "17                             [Buffer: 50%] 04      1246526     1034635\n",
       "18                             [Buffer: 50%] 08      1246534     1034635\n",
       "19                               新しいアーティスト (47)      6990994     1034635"
      ]
     },
     "metadata": {},
     "output_type": "display_data"
    }
   ],
   "source": [
    "unknownID = artistDF[artistDF.Name==\"[unknown]\"].collect()[0][0]\n",
    "unknownMispIDs = artistDF.join(artistAliasDF[artistAliasDF.standardID == unknownID],\n",
    "                               artistDF.artistID == artistAliasDF.mispelledID)\\\n",
    "                         .select(artistDF.Name, artistAliasDF.mispelledID, artistAliasDF.standardID)\n",
    "unknown_count = unknownMispIDs.count()\n",
    "print(\"There are \" + str(unknown_count) + \" artists mapping to the '[unknown]' standardID\")\n",
    "display(unknownMispIDs.limit(20).toPandas())"
   ]
  },
  {
   "cell_type": "markdown",
   "metadata": {},
   "source": [
    "<div class=\"alert alert-warning\" align=\"justify\">\n",
    "The table above shows some of the 955 artist IDs mapping to the '[unknown]' standard ID. The number of mappings together with their names constitute a measure of how 'corrupted' is this ID because a lot of potentially different real artists are mapped to it.<br><br>\n",
    "\n",
    "The best precaution that can be taken is to remove this data, this will lead to a cleaner data set and, most of all, it will probably reduce the number of artists having only one play count which where almost 35%. Moreover this will allow the model to produce better recommendations because the artists with just one play count are one of the factors of the sparsity of the utility matrix.\n",
    "</div>"
   ]
  },
  {
   "cell_type": "code",
   "execution_count": 32,
   "metadata": {},
   "outputs": [],
   "source": [
    "newUserArtistDF = newUserArtistDF[newUserArtistDF.artistID != unknownID]"
   ]
  },
  {
   "cell_type": "markdown",
   "metadata": {},
   "source": [
    "### Question 5\n",
    "\n",
    "Well, our data frame contains clean and \"standard\" data. We can use it to redo previous statistic queries.\n",
    "\n",
    "#### Question 5.1\n",
    "<div class=\"alert alert-info\">\n",
    "How many unique artists? Compare with the result when using old data.\n",
    "</div>"
   ]
  },
  {
   "cell_type": "code",
   "execution_count": 34,
   "metadata": {},
   "outputs": [
    {
     "name": "stdout",
     "output_type": "stream",
     "text": [
      "Total n. of artists:  1568116\n"
     ]
    }
   ],
   "source": [
    "uniqueArtists = newUserArtistDF.select(\"artistID\").agg(countDistinct(\"artistID\")).collect()\n",
    "print(\"Total n. of artists: \", uniqueArtists[0][0])"
   ]
  },
  {
   "cell_type": "markdown",
   "metadata": {},
   "source": [
    "<div class=\"alert alert-warning\" align=\"justify\">\n",
    "As we can see, though the cleaning of the dataset we passed from 1631028 to 1568116 artists. A great part of corrections were included in the artist_alias.txt without corrections. Few others taking into account \"chains\". Lastly the [\"unknown\"] user was removed. More details are provided in the section above [Further Cleaning](#Further Cleaning).\n",
    "</div>"
   ]
  },
  {
   "cell_type": "markdown",
   "metadata": {},
   "source": [
    "#### Question 5.2\n",
    "\n",
    "<div class=\"alert alert-info\">\n",
    "Who are the top-10 artistis?\n",
    "<ul>\n",
    "  <li>In terms of absolute play counts</li>\n",
    "  <li>In terms of \"audience size\", that is, how many users listened to one of their track at least once</li>\n",
    "</ul>  \n",
    "\n",
    "Plot the results, and explain the figures you obtain.\n",
    "</div>"
   ]
  },
  {
   "cell_type": "code",
   "execution_count": 35,
   "metadata": {},
   "outputs": [
    {
     "data": {
      "image/png": "[encoded data removed]",
      "text/plain": [
       "<matplotlib.figure.Figure at 0x7fb6f4879cf8>"
      ]
     },
     "metadata": {},
     "output_type": "display_data"
    }
   ],
   "source": [
    "# Build the dataset of Artist - TotPlaycount (for later use)\n",
    "ArtistsByPc = newUserArtistDF.groupBy(\"artistID\").agg(sum(\"playCount\").alias('playCount')).orderBy('playCount', ascending=0)\n",
    "\n",
    "# \n",
    "ArtistsByPcOld = userArtistDF.groupby(\"artistID\").agg(sum(\"playCount\").alias(\"Playcount\")).orderBy('playCount', ascending=0).take(10)\n",
    "\n",
    "# Calculate top-10 artists in term of play counts\n",
    "Top10ArtistsByPc = ArtistsByPc.take(10)\n",
    "\n",
    "y_pos = range(len(Top10ArtistsByPc))\n",
    "pdf = pd.DataFrame(data=Top10ArtistsByPc)\n",
    "\n",
    "# Plot the bar chart\n",
    "plt.barh(y_pos, pdf[1][::-1], align='center', alpha=0.4)\n",
    "plt.yticks(y_pos, pdf[0][::-1])\n",
    "plt.xlabel('Play Count')\n",
    "plt.ylabel('Artist')\n",
    "plt.title('Top-10 Artist ID per play counts')\n",
    "\n",
    "plt.show()"
   ]
  },
  {
   "cell_type": "code",
   "execution_count": 36,
   "metadata": {},
   "outputs": [
    {
     "data": {
      "image/png": "[encoded data removed]",
      "text/plain": [
       "<matplotlib.figure.Figure at 0x7fb6f462e1d0>"
      ]
     },
     "metadata": {},
     "output_type": "display_data"
    }
   ],
   "source": [
    "# Build the dataset of Artist - Audience Size (for later use)\n",
    "ArtistsByAs = newUserArtistDF.groupBy(\"artistID\").agg(countDistinct(\"userID\").alias(\"audience_size\")).orderBy('audience_size', ascending=0)\n",
    "\n",
    "# calculate top-10 artists in term of audience size\n",
    "top10ArtistsByAs = ArtistsByAs.take(10)\n",
    "\n",
    "y_pos = range(len(top10ArtistsByAs))\n",
    "pdf = pd.DataFrame(data=top10ArtistsByAs)\n",
    "\n",
    "# Plot the bar chart\n",
    "plt.barh(y_pos, pdf[1][::-1], align='center', alpha=0.4)\n",
    "plt.yticks(y_pos, pdf[0][::-1])\n",
    "plt.xlabel('Audience Size')\n",
    "plt.ylabel('Artist')\n",
    "plt.title('Top-10 Artist ID per audience size')\n",
    "plt.show()"
   ]
  },
  {
   "cell_type": "markdown",
   "metadata": {},
   "source": [
    "<div class=\"alert alert-warning\" align=\"justify\">\n",
    "As we can see, the ranking of artists by audience size and play count are pretty similar. \n",
    "As popular artists are also very listened artists, we could suspect that these two features have good correlation. Anyway, it would be wrong to state it only looking at the top 10 because they could not represent the behaviour of all the artist population.\n",
    "However, the correlation graphs that will be plotted later will confirm this hypothesis.\n",
    "</div>"
   ]
  },
  {
   "cell_type": "markdown",
   "metadata": {},
   "source": [
    "#### Question 5.3\n",
    "\n",
    "<div class=\"alert alert-info\">\n",
    "Who are the top-10 users?\n",
    "<ul>\n",
    "  <li>In terms of absolute play counts</li>\n",
    "  <li>In terms of \"curiosity\", that is, how many different artists they listened to</li>\n",
    "\n",
    "</ul>  \n",
    "\n",
    "Plot the results\n",
    "</div>"
   ]
  },
  {
   "cell_type": "code",
   "execution_count": 37,
   "metadata": {},
   "outputs": [
    {
     "data": {
      "image/png": "[encoded data removed]",
      "text/plain": [
       "<matplotlib.figure.Figure at 0x7fb6f45f2e10>"
      ]
     },
     "metadata": {},
     "output_type": "display_data"
    }
   ],
   "source": [
    "# Build the dataset of UserId - TotPlaycount (for later use)\n",
    "UsersByPc = newUserArtistDF.groupBy(\"userID\").agg(sum(\"playCount\").alias(\"TotPlayCount\")).orderBy(\"TotPlayCount\", ascending=0)\n",
    "\n",
    "# calculate top 10 users interm of play counts\n",
    "top10UsersByPlayCount = UsersByPc.take(10)\n",
    "\n",
    "y_pos = range(len(top10UsersByPlayCount))\n",
    "pdf = pd.DataFrame(data=top10UsersByPlayCount)\n",
    "\n",
    "# Plot the bar chart\n",
    "plt.barh(y_pos, pdf[1][::-1], align='center', alpha=0.4)\n",
    "plt.yticks(y_pos, pdf[0][::-1])\n",
    "plt.xlabel('Play Count')\n",
    "plt.ylabel('User')\n",
    "plt.title('Top-10 Users ID per play counts')\n",
    "plt.show()"
   ]
  },
  {
   "cell_type": "code",
   "execution_count": 38,
   "metadata": {},
   "outputs": [],
   "source": [
    "# Build the dataset of Artist - Curiosity (for later use)\n",
    "UsersByCur =newUserArtistDF.groupBy(\"userID\").agg(countDistinct(\"artistID\").alias(\"curiosity\")).orderBy('curiosity', ascending=0)\n",
    "\n",
    "# calculate top 10 users interm of curiosity\n",
    "top10UsersByCuriosity =UsersByCur.take(10)\n",
    "\n",
    "y_pos = range(len(top10UsersByCuriosity))\n",
    "pdf = pd.DataFrame(data=top10UsersByCuriosity)"
   ]
  },
  {
   "cell_type": "code",
   "execution_count": 39,
   "metadata": {},
   "outputs": [
    {
     "data": {
      "image/png": "[encoded data removed]",
      "text/plain": [
       "<matplotlib.figure.Figure at 0x7fb6f4153fd0>"
      ]
     },
     "metadata": {},
     "output_type": "display_data"
    }
   ],
   "source": [
    "# Plot the bar chart\n",
    "plt.barh(y_pos, pdf[1][::-1], align='center', alpha=0.4)\n",
    "plt.yticks(y_pos, pdf[0][::-1])\n",
    "plt.xlabel('Curiosity')\n",
    "plt.ylabel('User')\n",
    "plt.title('Top-10 Users ID per curiosity')\n",
    "plt.show()"
   ]
  },
  {
   "cell_type": "markdown",
   "metadata": {},
   "source": [
    "<div class=\"alert alert-warning\" align=\"justify\">\n",
    "For the users we cannot apply the same considerations made for the artists. In fact the two rankings are completely different. So we can suspect there are two types of users. One kind of users that listens only to few artists several times and another which listens just few times several artists. Of course, as said before, we cannot make conclusions only looking at the top 10 users. The correlation graph will help to understand the situation.\n",
    "</div>"
   ]
  },
  {
   "cell_type": "markdown",
   "metadata": {},
   "source": [
    "# Correlation graphs"
   ]
  },
  {
   "cell_type": "markdown",
   "metadata": {},
   "source": [
    "<div class=\"alert alert-warning\" align=\"justify\">\n",
    "For a better understanding of our datasets, it is convenient to plot correlation graphs. These want to show the correlation between users properties (Playcount and Curiosity) and artist properties (Playcount and Audience size). The aim here is to understand if there is a trend that links every two properties and to see the presence of outliers in different dimensions (more details are provided later).\n",
    "</div>"
   ]
  },
  {
   "cell_type": "code",
   "execution_count": 40,
   "metadata": {},
   "outputs": [],
   "source": [
    "# Prepare the dataset for the plot of the correlation graph\n",
    "df_ArtistsPcVsAs = ArtistsByAs.join(ArtistsByPc, ArtistsByAs.artistID == ArtistsByPc.artistID)\\\n",
    "                                .select(ArtistsByAs.audience_size, ArtistsByPc.playCount)\\\n",
    "                                .collect()"
   ]
  },
  {
   "cell_type": "code",
   "execution_count": 41,
   "metadata": {},
   "outputs": [
    {
     "data": {
      "image/png": "[encoded data removed]",
      "text/plain": [
       "<matplotlib.figure.Figure at 0x7fb6f3ff2d68>"
      ]
     },
     "metadata": {},
     "output_type": "display_data"
    }
   ],
   "source": [
    "# Plot the correlation graph\n",
    "plt.title('Correlation between no. of plays per artist vs. number of Users per artist')\n",
    "plt.xlabel('Audience Size')\n",
    "plt.ylabel('Playcount')\n",
    "\n",
    "plt.scatter([x[0] for x in df_ArtistsPcVsAs],[x[1] for x in df_ArtistsPcVsAs], alpha=0.2)\n",
    "plt.grid()\n",
    "plt.show()"
   ]
  },
  {
   "cell_type": "markdown",
   "metadata": {},
   "source": [
    "<div class=\"alert alert-warning\" align=\"justify\">\n",
    "As we can observe from the graph, a correlation between the Audience size (popularity) with the total number of play count exists. If the two parameters where completely correlated we would have obtained a straight line, that is for every artist we wold have a constant ratio between the play count and audience size.\n",
    "As the points seem to place on a straight line, we can conclude that these two parameters are higly correlated.\n",
    "So we can state that artists with a high number of play counts have also a big number of users.\n",
    "</div>"
   ]
  },
  {
   "cell_type": "code",
   "execution_count": 42,
   "metadata": {},
   "outputs": [],
   "source": [
    "# Prepare the dataset for the plot of the correlation graph\n",
    "df_UsersPcVsCur = UsersByCur.join(UsersByPc, UsersByCur.userID == UsersByPc.userID)\\\n",
    "                            .select(UsersByCur.curiosity, UsersByPc.TotPlayCount)\\\n",
    "                            .collect()"
   ]
  },
  {
   "cell_type": "code",
   "execution_count": 43,
   "metadata": {},
   "outputs": [
    {
     "data": {
      "image/png": "[encoded data removed]",
      "text/plain": [
       "<matplotlib.figure.Figure at 0x7fb6f43b48d0>"
      ]
     },
     "metadata": {},
     "output_type": "display_data"
    }
   ],
   "source": [
    "# Plot the correlation graph\n",
    "x = np.array( [x[0] for x in df_UsersPcVsCur] )\n",
    "y = np.array( [x[1] for x in df_UsersPcVsCur] )\n",
    "\n",
    "plt.title('Correlation between no. of plays per Users vs. number of Artists per User')\n",
    "plt.xlabel('Curiosity')\n",
    "plt.ylabel('Playcount')\n",
    "\n",
    "plt.scatter(x,y, alpha=0.2)\n",
    "plt.grid()\n",
    "plt.show()"
   ]
  },
  {
   "cell_type": "markdown",
   "metadata": {},
   "source": [
    "<div class=\"alert alert-warning\" align=\"justify\">\n",
    "In this case, the Correlation plot for the User Artist does not show an evident trend between Curiosity and Play count as instead happened in the artist case, even if a little bit less evident than with the artist case. However, we notice that there are strange cases where either for very low curiosity level there is an high playcount or the opposite. For the latter, it seems like that the playcount is almost equal to the curiosity, this means that user has listened to many artist only once (or just few times).<br>\n",
    "Clearly, we can put an end to users curiosity, and suppose that this is simply a Bot. Same hypothesis can be applied to the users which have listened a lot of times to very few artists (or even only one).<br>\n",
    "Since these data are outliers, it could be good to exclude them from the analysis. More details are given in [Experimental explorations](## 4 Experimental explorations)\n",
    "</div>"
   ]
  },
  {
   "cell_type": "markdown",
   "metadata": {},
   "source": [
    "Now we have some valuable information about the data. It's the time to study how to build a statistical models."
   ]
  },
  {
   "cell_type": "markdown",
   "metadata": {},
   "source": [
    "# 2. Build a statistical models to make recommendations\n",
    "\n",
    "## 2.1 Introduction to recommender systems\n",
    "\n",
    "In a recommendation-system application there are two classes of entities, which we shall refer to as `users` and `items`. Users have preferences for certain items, and these preferences must be inferred from the data. The data itself is represented as a `preference matrix` $A$, giving for each user-item pair, a value that represents what is known about the degree of preference of that user for that item. The table below is an example for a `preference matrix` of 5 users and `k` items. The `preference matrix` is also known as `utility matrix`.\n",
    "\n",
    "| | IT1 | IT2 | IT3 | ... | ITk |\n",
    "|---|---|---|---|---|---|\n",
    "| U1 | 1 |  | 5 | ... | 3 |\n",
    "| U2 |  | 2 |  | ... | 2 |\n",
    "| U3 | 5 |  | 3 | ... |  |\n",
    "| U4 | 3 | 3 |  | ... | 4 |\n",
    "| U5 |  | 1 |  | ... | ... |\n",
    "\n",
    "The value of row i, column j expresses how much does user `i` like item `j`. The values are often the rating scores of users for items. An unknown value implies that we have no explicit information about the user's preference for the item. The goal of a recommendation system is to predict \"the blanks\" in the `preference matrix`. For example, assume that the rating score is from 1 (dislike) to 5 (love), would user `U5` like `IT3` ? We have two approaches:\n",
    "\n",
    "* Designing our recommendation system to take into account properties of items such as brand, category, price... or even the similarity of their names. We can denote the similarity of items `IT2` and `IT3`, and then conclude that because user `U5` did not like `IT2`, they were unlikely to enjoy SW2 either.\n",
    "\n",
    "* We might observe that the people who rated both `IT2` and `IT3` tended to give them similar ratings. Thus, we could conclude that user `U5` would also give `IT3` a low rating, similar to `U5`'s rating of `IT2`\n",
    "\n",
    "It is not necessary to predict every blank entry in a `utility matrix`. Rather, it is only necessary to discover some entries in each row that are likely to be high. In most applications, the recommendation system does not oﬀer users a ranking of all items, but rather suggests a few that the user should value highly. It may not even be necessary to ﬁnd all items with the highest expected ratings, but only to ﬁnd a large subset of those with the highest ratings.\n",
    "\n",
    "\n",
    "## 2.2 Families of recommender systems\n",
    "\n",
    "In general, recommender systems can be categorized into two groups:\n",
    "\n",
    "* **Content-Based** systems focus on properties of items. Similarity of items is determined by measuring the similarity in their properties.\n",
    "\n",
    "* **Collaborative-Filtering** systems focus on the relationship between users and items. Similarity of items is determined by the similarity of the ratings of those items by the users who have rated both items.\n",
    "\n",
    "In the usecase of this notebook, artists take the role of `items`, and `users` keep the same role as `users`.\n",
    "Since we have no information about `artists`, except their names, we cannot build a `content-based` recommender system.\n",
    "\n",
    "Therefore, in the rest of this notebook, we only focus on `Collaborative-Filtering` algorithms.\n",
    "\n",
    "## 2.3 Collaborative-Filtering \n",
    "In this section, we study a member of a broad class of algorithms called `latent-factor` models. They try to explain observed interactions between large numbers of users and products through a relatively small number of unobserved, underlying reasons. It is analogous to explaining why millions of people buy a particular few of thousands of possible albums by describing users and albums in terms of tastes for perhaps tens of genres, tastes which are **not directly observable or given** as data. \n",
    "\n",
    "First, we formulate the learning problem as a matrix completion problem. Then, we will use a type of `matrix factorization` model to \"fill in\" the blanks.  We are given implicit ratings that users have given certain items (that is, the number of times they played a particular artist) and our goal is to predict their ratings for the rest of the items. Formally, if there are $n$ users and $m$ items, we are given an $n \\times m$ matrix $R$ in which the generic entry $(u, i)$ represents the rating for item $i$ by user $u$. **Matrix $R$ has many missing entries indicating unobserved ratings, and our task is to estimate these unobserved ratings**.\n",
    "\n",
    "A popular approach to the matrix completion problem is **matrix factorization**, where we want to \"summarize\" users and items with their **latent factors**.\n",
    "\n",
    "### 2.3.1 Basic idea and an example of Matrix Factorization\n",
    "For example, given a preference matrix 5x5 as below, we want to approximate this matrix into the product of two smaller matrixes $X$ and $Y$ .\n",
    "\n",
    "$$\n",
    "M = \n",
    "\\begin{bmatrix}\n",
    " 5 & 2 & 4 & 4 & 3 \\\\\n",
    " 3 & 1 & 2 & 4 & 1 \\\\\n",
    " 2 &  & 3 & 1 & 4 \\\\\n",
    " 2 & 5 & 4 & 3 & 5 \\\\\n",
    " 4 & 4 & 5 & 4 &  \\\\\n",
    "\\end{bmatrix}\n",
    "\\approx M^\\prime =\n",
    "\\begin{bmatrix}\n",
    " x_{11} & x_{12} \\\\\n",
    " x_{21} & x_{22} \\\\\n",
    " x_{31} & x_{32} \\\\\n",
    " x_{41} & x_{42} \\\\\n",
    " x_{51} & x_{52} \\\\\n",
    "\\end{bmatrix}\n",
    "\\times\n",
    "\\begin{bmatrix}\n",
    " y_{11} & y_{12} & y_{13} & y_{14} & y_{15} \\\\\n",
    " y_{21} & y_{22} & y_{23} & y_{24} & y_{25} \\\\\n",
    "\\end{bmatrix}\n",
    "$$\n",
    "\n",
    "$M^\\prime$ is an approximation that is as close to A as possible. To calculate how far from $M$ $M^\\prime$ is, we often calculate the sum of squared distances of non-empty elements in $M$ and the corresponding elements in $M^\\prime$.\n",
    "In this way, for $M^\\prime$, besides the approximated elements in $M$, we also have the non-observed elements. Therefore, to see how much does user `i` like item `j`, we simply pick up the value of $M^\\prime_{i,j}$.\n",
    "\n",
    "The challenge is how to calculate $X$ and $Y$. The bad news is that this can't be solved directly for both the best $X$ and best $Y$ at the same time. Fortunately, if $Y$ is known, we can calculate the best of $X$, and vice versa. It means from the initial values of $X$ and $Y$ in the beginning, we calculate the best $X$ according to $Y$, and then calculate the best $Y$ according to the new $X$. This process is repeated until the distance from $XY$ to $M$ is small. It's simple, right ?\n",
    "\n",
    "Let's take an example. To compute the approximation for the above 5x5 matrix $M$, first, we initialize the value of $X$ and $Y$ as below.\n",
    "\n",
    "$$\n",
    "M^\\prime = X \\times Y =\n",
    "\\begin{bmatrix}\n",
    " 1 & 1 \\\\\n",
    " 1 & 1 \\\\\n",
    " 1 & 1 \\\\\n",
    " 1 & 1 \\\\\n",
    " 1 & 1 \\\\\n",
    "\\end{bmatrix}\n",
    "\\times\n",
    "\\begin{bmatrix}\n",
    " 1 & 1 & 1 & 1 & 1 \\\\\n",
    " 1 & 1 & 1 & 1 & 1 \\\\\n",
    "\\end{bmatrix} =\n",
    "\\begin{bmatrix}\n",
    " 2 & 2 & 2 & 2 & 2 \\\\\n",
    " 2 & 2 & 2 & 2 & 2 \\\\\n",
    " 2 & 2 & 2 & 2 & 2 \\\\\n",
    " 2 & 2 & 2 & 2 & 2 \\\\\n",
    " 2 & 2 & 2 & 2 & 2 \\\\\n",
    "\\end{bmatrix}\n",
    "$$\n",
    "\n",
    "With the initial iteration, we calculate the the Root-Mean-Square Error from $XY$ to $M$.\n",
    "\n",
    "Consider the ﬁrst rows of $M$ and $XY$ . We subtract the first row of $XY$ from the entries in the ﬁrst row of $M$, to get $3,0,2,2,1$. We square and sum these to get $18$. \n",
    "\n",
    "In the second row, we do the same to get $1,−1,0,2,−1$, square and sum to get $7$. \n",
    "\n",
    "In the third row, the second column is blank, so that entry is ignored when computing the RMSE. The diﬀerences are $0,1,−1,2$ and the sum of squares is $6$. \n",
    "\n",
    "For the fourth row, the diﬀerences are $0,3,2,1,3$ and the sum of squares is $23$. \n",
    "\n",
    "The ﬁfth row has a blank entry in the last column, so the diﬀerences are $2,2,3,2$ and the sum of squares is $21$. \n",
    "\n",
    "When we sum the sums from each of the ﬁve rows, we get $18+7+6+23+21 = 75$. So, $RMSE=\\sqrt{75/23}=1.806$ where $23$ is the number of non-empty values in $M$.\n",
    "\n",
    "Next, with the given value of $Y$, we calculate $X$ by finding the best value for $X_{11}$.\n",
    "\n",
    "$$\n",
    "M^\\prime = X \\times Y =\n",
    "\\begin{bmatrix}\n",
    " x & 1 \\\\\n",
    " 1 & 1 \\\\\n",
    " 1 & 1 \\\\\n",
    " 1 & 1 \\\\\n",
    " 1 & 1 \\\\\n",
    "\\end{bmatrix}\n",
    "\\times\n",
    "\\begin{bmatrix}\n",
    " 1 & 1 & 1 & 1 & 1 \\\\\n",
    " 1 & 1 & 1 & 1 & 1 \\\\\n",
    "\\end{bmatrix}\n",
    "=\n",
    "\\begin{bmatrix}\n",
    " x+1 & x+1 & x+1 & x+1 & x+1 \\\\\n",
    " 2 & 2 & 2 & 2 & 2 \\\\\n",
    " 2 & 2 & 2 & 2 & 2 \\\\\n",
    " 2 & 2 & 2 & 2 & 2 \\\\\n",
    " 2 & 2 & 2 & 2 & 2 \\\\\n",
    "\\end{bmatrix}\n",
    "$$\n",
    "\n",
    "Now, to minimize the $RMSE$  we minimize the difference of the first rows $(5−(x+1))^2 + (2−(x+1))^2 + (4−(x+1))^2 + (4−(x+1))^2 + (3−(x+1))^2$. By  taking the derivative and set that equal to 0, we pick $x=2.6$\n",
    "\n",
    "Given the new value of $X$, we can calculate the best value for $Y$.\n",
    "\n",
    "$$\n",
    "M^\\prime = X \\times Y =\n",
    "\\begin{bmatrix}\n",
    " 2.6 & 1 \\\\\n",
    " 1 & 1 \\\\\n",
    " 1 & 1 \\\\\n",
    " 1 & 1 \\\\\n",
    " 1 & 1 \\\\\n",
    "\\end{bmatrix}\n",
    "\\times\n",
    "\\begin{bmatrix}\n",
    " y & 1 & 1 & 1 & 1 \\\\\n",
    " 1 & 1 & 1 & 1 & 1 \\\\\n",
    "\\end{bmatrix}\n",
    "=\n",
    "\\begin{bmatrix}\n",
    " 3.6 & 3.6 & 3.6 & 3.6 & 3.6 \\\\\n",
    " 2 & 2 & 2 & 2 & 2 \\\\\n",
    " 2 & 2 & 2 & 2 & 2 \\\\\n",
    " 2 & 2 & 2 & 2 & 2 \\\\\n",
    " 2 & 2 & 2 & 2 & 2 \\\\\n",
    "\\end{bmatrix}\n",
    "$$\n",
    "\n",
    "By doing the same process as before, we can pick value for $y=1.617$. After that, we can check if the $RMSE$ is not converged, we continue to update $X$ by $Y$ and vice versa. In this example, for simple, we only update one element of each matrix in each iteration. In practice, we can update a full row or full matrix at once.\n"
   ]
  },
  {
   "cell_type": "markdown",
   "metadata": {},
   "source": [
    "### 2.3.2 Matrix Factorization: Objective and ALS Algorithm on a Single Machine\n",
    "\n",
    "More formally, in general, we select $k$ latent features, and describe each user $u$ with a $k-$dimensional vector $x_u$, and each item $i$ with a $k-$dimensional vector $y_i$.\n",
    "\n",
    "Then, to predict user $u$'s rating for item $i$, we do as follows: $ r_{ui} \\approx x_{u}^{T}y_i$.\n",
    "\n",
    "This can be put, more elegantly, in a matrix form. Let $x_1, \\cdots x_n \\in \\mathbb{R}^k$ be the factors for the users, and $y_1, \\cdots y_m \\in \\mathbb{R}^k$ the factors for the items. The $k \\times n$ user matrix $X$ and the $k \\times m$ item matrix $Y$ are then defined by:\n",
    "\n",
    "$$\n",
    "X = \n",
    "\\begin{bmatrix}\n",
    " |   &         & |  \\\\\n",
    "x_1  &  \\cdots & x_n\\\\\n",
    " |   &         & |  \\\\\n",
    "\\end{bmatrix}\n",
    "$$\n",
    "\n",
    "$$\n",
    "Y = \n",
    "\\begin{bmatrix}\n",
    " |   &         & |  \\\\\n",
    "y_1  &  \\cdots & y_i\\\\\n",
    " |   &         & |  \\\\\n",
    "\\end{bmatrix}\n",
    "$$\n",
    "\n",
    "Our goal is to estimate the complete ratings matrix $R \\approx X^{T} Y$. We can formulate this problem as an optimization problem in which we aim to minimize an objective function and find optimal $X$ and $Y$ . In particular, we aim to minimize the least squares error of the observed ratings (and regularize):\n",
    "\n",
    "$$\n",
    "\\min_{X,Y} \\sum_{r_{ui} \\text{observed}}(r_{ui} - x_{u}^{T}y_i)^2 + \\lambda \\left( \\sum_{u} \\|x_u\\|^2 + \\sum_{i} \\|y_i\\|^2 \\right) \n",
    "$$\n",
    "\n",
    "Notice that this objective is non-convex (because of the $x_{u}^{T} y_i$ term); in fact it’s NP-hard to optimize. Gradient descent can be used as an approximate approach here, however it turns out to be slow and costs lots of iterations. Note however, that if we fix the set of variables $X$ and treat them as constants, then the objective is a convex function of $Y$ and vice versa. Our approach will therefore be to fix $Y$ and optimize $X$, then fix $X$ and optimize $Y$, and repeat until convergence. This approach is known as **ALS (Alternating Least Squares)**. For our objective function, the alternating least squares algorithm can be expressed with this simple pseudo-code:"
   ]
  },
  {
   "cell_type": "markdown",
   "metadata": {},
   "source": [
    "\n",
    "**Initialize** $X$, $Y$\n",
    "\n",
    "**while(convergence is not true) do**\n",
    "\n",
    "\n",
    "**for** $u = 1 \\cdots n$ **do**\n",
    "\n",
    "$x_u = \\left( \\sum_{r_ui \\in r_{u*}} y_i y_{i}^{T} + \\lambda I_k \\right)^{-1} \\sum_{r_ui \\in r_{u*}} r_{ui} y_i $ \n",
    "   \n",
    "**end for**\n",
    "\n",
    "**for** $u = 1 \\cdots n$ **do**\n",
    "\n",
    "$y_i = \\left( \\sum_{r_ui \\in r_{*i}} x_u x_{u}^{T} + \\lambda I_k \\right)^{-1} \\sum_{r_ui \\in r_{*i}} r_{ui} x_u $ \n",
    "   \n",
    "**end for**\n",
    "\n",
    "\n",
    "**end while**\n"
   ]
  },
  {
   "cell_type": "markdown",
   "metadata": {},
   "source": [
    "For a single machine, we can analyze the computational cost of this algorithm. Updating each $x_u$ will cost $O(n_u k^2 + k^3)$, where $n_u$ is the number of items rated by user $u$, and similarly updating each $y_i$ will cost $O(n_i k^2 + k^3)$, where $n_i$ is the number of users that have rated item $i$.\n",
    "\n",
    "\n",
    "Once we’ve computed the matrices $X$ and $Y$, there are several ways compute a prediction. The first is to do what was discussed before, which is to simply predict $ r_{ui} \\approx x_{u}^{T}y_i$ for each user $u$ and item $i$. \n",
    "This approach will cost $O(nmk)$ if we’d like to estimate every user-item pair. \n",
    "\n",
    "However, this approach is prohibitively expensive for most real-world datasets. A second (and more holistic) approach is to use the $x_u$ and $y_i$ as features in another learning algorithm, incorporating these features with others that are relevant to the prediction task."
   ]
  },
  {
   "cell_type": "markdown",
   "metadata": {},
   "source": [
    "### 2.3.3 Parallel Altenating Least Squares\n",
    "\n",
    "There are several ways to distribute the computation of the ALS algorithm depending on how data is partitioned.\n",
    "\n",
    "#### Method 1: using joins\n",
    "First we consider a fully distributed version, in the sense that all data (both input and output) is stored in a distributed file system. In practice, input data (ratings) and parameters ($X$ and $Y$) are stored in an a Spark RDD. Specifically, ratings -- that are always **sparse** -- are stored as RDD of triplets:\n",
    "\n",
    "Ratings: RDD((u, i, $r_{ui}$), . . . )\n",
    "\n",
    "\n",
    "Instead, we can use dense representation for factor matrices $X$ and $Y$, and these are stored as RDDs of vectors. More precisely, we can use the data types introduced in Spark MLLib to store such vectors and matrices:\n",
    "\n",
    "X : RDD($x_1$,...,$x_n$)\n",
    "\n",
    "Y : RDD($y_1$,...,$y_m$)\n",
    "\n",
    "\n",
    "Now, recall the expression to compute $x_u$:\n",
    "\n",
    "$x_u = \\left( \\sum_{r_ui \\in r_{u*}} y_i y_{i}^{T} + \\lambda I_k \\right)^{-1} \\sum_{r_ui \\in r_{u*}} r_{ui} y_i $ \n",
    "\n",
    "Let's call the first summation *part A* and the second summation *part B*. To compute such parts, in parallel, we can proceed with the following high-level pseudocode:\n",
    "\n",
    "* Join the Ratings RDD with the $Y$ matrix RDD using key $i$ (items)\n",
    "* Map to compute $y_i y_{i}^{T}$ and emit using key $u$ (user)\n",
    "* ReduceByKey $u$ (user) to compute $\\sum_{r_ui \\in r_{u*}} y_i y_{i}^{T}$\n",
    "* Invert\n",
    "* Another ReduceByKey $u$ (user) to compute $\\sum_{r_ui \\in r_{u*}} r_{ui} y_i$\n",
    "\n",
    "We can use the same template to copmute $y_i$.\n",
    "\n",
    "This approach works fine, but note it requires computing $y_i y_{i}^{T}$ for each user that has rated item $i$. \n",
    "\n",
    "#### Method 2: using broadcast variables (advanced topic)\n",
    "The next approach takes advantage of the fact that the $X$ and $Y$ factor matrices are often very small and can be stored locally on each machine.\n",
    "\n",
    "* Partition the Ratings RDD **by user** to create $R_1$, and similarly partition the Ratings RDD **by item** to create $R_2$. This means there are two copies of the same Ratings RDD, albeit with different partitionings. In $R_1$, all ratings by the same user are on the same machine, and in $R_2$ all ratings for same item are on the same machine.\n",
    "* Broadcast the matrices $X$ and $Y$. Note that these matrices are not RDD of vectors: they are now \"local: matrices.\n",
    "* Using $R_1$ and $Y$, we can use expression $x_u$ from above to compute the update of $x_u$ locally on each machine\n",
    "* Using $R_2$ and $X$, we can use expression $y_i$ from above to compute the update of $y_i$ locally on each machine\n",
    "\n",
    "A further optimization to this method is to group the $X$ and $Y$ factors matrices into blocks (user blocks and item blocks) and reduce the communication by only sending to each machine the block of users (or items) that are needed to compute the updates at that machine. \n",
    "\n",
    "This method is called **Block ALS**. It is achieved by precomputing some information about the ratings matrix to determine the \"out-links\" of each user (which blocks of the items it will contribute to) and \"in-link\" information for each item (which of the factor vectors it receives from each user block it will depend on). For exmple, assume that machine 1 is responsible for users 1,2,...,37: these will be block 1 of users. The items rated by these users are block 1 of items. Only the factors of block 1 of users and block 1 of items will be broadcasted to machine 1.\n",
    "\n",
    "### Further readings\n",
    "Other methods for matrix factorization include:\n",
    "\n",
    "* Low Rank Approximation and Regression in Input Sparsity Time, by Kenneth L. Clarkson, David P. Woodruff. http://arxiv.org/abs/1207.6365\n",
    "* Generalized Low Rank Models (GLRM), by Madeleine Udell, Corinne Horn, Reza Zadeh, Stephen Boyd. http://arxiv.org/abs/1410.0342\n",
    "* Matrix Completion and Low-Rank SVD via Fast Alternating Least Squares, by Trevor Hastie, Rahul Mazumder, Jason D. Lee, Reza Zadeh . Statistics Department and ICME, Stanford University, 2014. http://stanford.edu/~rezab/papers/fastals.pdf"
   ]
  },
  {
   "cell_type": "markdown",
   "metadata": {},
   "source": [
    "# 3. Usecase : Music recommender system\n",
    "\n",
    "In this usecase, we use the data of users and artists in the previous sections to build a statistical model to recommend artists for users.\n",
    " \n",
    "## 3.1 Requirements\n",
    "According to the properties of data, we need to choose a recommender algorithm that is suitable for this implicit feedback data. It means that the algorithm should learn without access to user or artist attributes such as age, genre,.... Therefore, an algorithm of type `collaborative filtering` is the best choice.\n",
    "\n",
    "Second, in the data, there are some users that have listened to only 1 artist. We need an algorithm that might provide decent recommendations to even these users. After all, at some point, every user starts out with just one play at some point! \n",
    "\n",
    "Third, we need an algorithm that scales, both in its ability to build large models, and to create recommendations quickly. So, an algorithm which can run on a distributed system (SPARK, Hadoop...) is very suitable.\n",
    "\n",
    "From these requirement, we can choose using ALS algorithm in SPARK's MLLIB.\n",
    "\n",
    "Spark MLlib’s ALS implementation draws on ideas from [1](http://yifanhu.net/PUB/cf.pdf) and [2](http://link.springer.com/chapter/10.1007%2F978-3-540-68880-8_32).\n",
    "\n",
    "## 3.2 Notes\n",
    "\n",
    "Currently, MLLIB can only build models from an RDD. That means we have two ways to prepare data:\n",
    "\n",
    "* Loading to into SPARK SQL DataFrame as before, and then access the corresponding RDD by calling `<dataframe>.rdd`. The invalid data is often sucessfully dropped by using mode `DROPMALFORMED`. However, this way might not work in all cases. Fortunately, we can use it with this usecase.\n",
    "\n",
    "* Loading data directly to RDD. However, we have to deal with the invalid data ourself. In the trade-off, this way is the most reliable, and can work in every case.\n",
    "\n",
    "In this notebook, we will use the second approach: it requires a bit more effort, but the reward is worth it!\n",
    "\n",
    " \n",
    "## 3.3 Cleanup the data\n",
    "In section 1, we already replaced the ids of mispelled artists by the corresponding standard ids by using SPARK SQL API.\n",
    "However, if the data has the invalid entries such that SPARK SQL API is stuck, the best way to work with it is using an RDD.\n",
    "\n",
    "Just as a recall, we work with three datasets in `user_artist_data.txt`, `` and `artist_alias.txt`. The entries in these file can be empty or have only one field. \n",
    "\n",
    "In details our goal now is:\n",
    "\n",
    "* Read the input ```user_artist_data.txt``` and transforms its representation into an output dataset.\n",
    "* To produce an output \"tuple\" containing the original user identifier and play counts, but with the artist identifier replaced by its most common alias, as found in the ```artist_alias.txt``` dataset.\n",
    "* Since the ```artist_alias.txt``` file is small, we can use a technique called **broadcast variables** to make such transformation more efficient.\n"
   ]
  },
  {
   "cell_type": "markdown",
   "metadata": {},
   "source": [
    "### Question 6\n",
    "\n",
    "#### Question 6.1\n",
    "\n",
    "<div class=\"alert alert-info\">\n",
    "Load data from `/datasets/lastfm/artist_alias.txt` and filter out the invalid entries to construct a dictionary to map from mispelled artists' ids to standard ids.\n",
    "</div>\n",
    "\n",
    "NOTE: From now on, we will use the \"standard\" data to train our model.\n",
    "\n",
    "HINT: If a line contains less than 2 fields or contains invalid numerical values, we can return a special tuple. After that, we can filter out these special tuples."
   ]
  },
  {
   "cell_type": "code",
   "execution_count": 33,
   "metadata": {},
   "outputs": [],
   "source": [
    "rawArtistAlias = sc.textFile(base + \"artist_alias.txt\")\n",
    "\n",
    "def xtractFields(s):\n",
    "    # Using white space or tab character as separetors,\n",
    "    # split a line into list of strings \n",
    "    line = re.split(\"\\s|\\t\",s,1)\n",
    "    # if this line has at least 2 characters\n",
    "    if (len(line) > 1):\n",
    "        try:\n",
    "            # try to parse the first and the second components to integer type\n",
    "            return (int(line[0]), int(line[1]))\n",
    "        except ValueError:\n",
    "            # if parsing has any error, return a special tuple\n",
    "            return (-1,-1)\n",
    "    else:\n",
    "        # if this line has less than 2 characters, return a special tuple\n",
    "        return (-1,-1)\n",
    "\n",
    "artistAlias = (\n",
    "                rawArtistAlias\n",
    "                    # extract fields using function xtractFields\n",
    "                    .map(xtractFields)\n",
    "    \n",
    "                    # fileter out the special tuples\n",
    "                    .filter(lambda x: x[0] != -1 and x[1] != -1)\n",
    "    \n",
    "                    # collect result to the driver as a \"dictionary\"\n",
    "                    .collectAsMap()\n",
    "                )"
   ]
  },
  {
   "cell_type": "markdown",
   "metadata": {},
   "source": [
    "#### Question 6.2\n",
    "<div class=\"alert alert-info\">\n",
    "Using the dictionary in question 6.1, prepare RDD `userArtistDataRDD` by replacing mispelled artists' ids to standard ids. Show 5 samples.\n",
    "</div>\n",
    "\n",
    "HINT: Using broadcast varible can help us increase the effiency.\n",
    "\n",
    "<div class=\"alert alert-warning\" align=\"justify\">\n",
    "We used \"cleanArtistAlias\" instead of \"artistAlias\" to have a better cleaning (see Question 4.4).\n",
    "</div>"
   ]
  },
  {
   "cell_type": "code",
   "execution_count": 34,
   "metadata": {},
   "outputs": [
    {
     "data": {
      "text/plain": [
       "[(1000002, 1, 55),\n",
       " (1000002, 1000006, 33),\n",
       " (1000002, 1000007, 8),\n",
       " (1000002, 1000009, 144),\n",
       " (1000002, 1000010, 314)]"
      ]
     },
     "execution_count": 34,
     "metadata": {},
     "output_type": "execute_result"
    }
   ],
   "source": [
    "bArtistAlias = sc.broadcast(cleanArtistAlias)\n",
    "rawUserArtistData = sc.textFile(base + \"user_artist_data.txt\")\n",
    "\n",
    "def disambiguate(line):\n",
    "    [userID, artistID, count] = line.split(' ')\n",
    "    finalArtistID = bArtistAlias.value.get(int(artistID), artistID)\n",
    "    return (int(userID), int(finalArtistID), int(count))\n",
    "\n",
    "userArtistDataRDD = rawUserArtistData.map(disambiguate)\n",
    "userArtistDataRDD.take(5)"
   ]
  },
  {
   "cell_type": "code",
   "execution_count": 35,
   "metadata": {},
   "outputs": [
    {
     "name": "stdout",
     "output_type": "stream",
     "text": [
      "There are 0 known mispelled ID in the dataset\n"
     ]
    }
   ],
   "source": [
    "# Verify correctness of the algorithm\n",
    "n_mispelled_id = userArtistDataRDD.filter(lambda x: x[1] in bArtistAlias.value.keys()).count()\n",
    "print(\"There are %d known mispelled ID in the dataset\" % (n_mispelled_id))"
   ]
  },
  {
   "cell_type": "code",
   "execution_count": 36,
   "metadata": {},
   "outputs": [],
   "source": [
    "# Remove artist unknown and those mapped to it (id 1034635)\n",
    "userArtistDataRDD = userArtistDataRDD.filter(lambda x: x[1] != 1034635)"
   ]
  },
  {
   "cell_type": "markdown",
   "metadata": {},
   "source": [
    "## 3.4 Training our statistical model\n",
    "To train a model using ALS, we must use a preference matrix  as an input. MLLIB uses the class `Rating` to support the construction of a distributed preference matrix."
   ]
  },
  {
   "cell_type": "markdown",
   "metadata": {},
   "source": [
    "### Question 7\n",
    "\n",
    "#### Question 7.1\n",
    "<div class=\"alert alert-info\">\n",
    "Given RDD `userArtistDataRDD` in question 6.2, construct a new RDD `trainingData` by tranforming each item of it into a `Rating` object.\n",
    "</div>"
   ]
  },
  {
   "cell_type": "code",
   "execution_count": 37,
   "metadata": {},
   "outputs": [],
   "source": [
    "from pyspark.mllib.recommendation import ALS, MatrixFactorizationModel, Rating"
   ]
  },
  {
   "cell_type": "code",
   "execution_count": 38,
   "metadata": {},
   "outputs": [],
   "source": [
    "# after replacing mispelled artist ids, the data contains some play count duplications of a user with the same artist\n",
    "# remember to aggregate these records\n",
    "from operator import add\n",
    "\n",
    "# creat the dataset\n",
    "allData = (\n",
    "    userArtistDataRDD.map(lambda x: ((x[0], x[1]), x[2]))\n",
    "                    .reduceByKey(add)\n",
    "                    .map(lambda r: Rating(r[0][0], r[0][1], r[1]))\n",
    "                    .repartition(4) # 4 Because we are working with a dataframe with 4 workers. Any multiple of 4 is fine.\n",
    "                    .cache()\n",
    ")"
   ]
  },
  {
   "cell_type": "markdown",
   "metadata": {},
   "source": [
    "#### Question 7.2\n",
    "<div class=\"alert alert-info\">\n",
    "A model can be trained by using `ALS.trainImplicit(<training data>, <rank>)`, where:\n",
    "<ul>\n",
    "<li>`training data` is the input data you decide to feed to the ALS algorithm</li>\n",
    "<li>`rank` is the number of laten features</li>\n",
    "</ul>  \n",
    "\n",
    "\n",
    "We can also use some additional parameters to adjust the quality of the model. Currently, let's set \n",
    "<ul>\n",
    "<li>`rank=10`</li>\n",
    "<li>`iterations=5`</li>\n",
    "<li>`lambda_=0.01`</li>\n",
    "<li>`alpha=1.0` </li>\n",
    "</ul>\n",
    "to build model.\n",
    "</div>"
   ]
  },
  {
   "cell_type": "code",
   "execution_count": 39,
   "metadata": {},
   "outputs": [
    {
     "name": "stdout",
     "output_type": "stream",
     "text": [
      "finish training model in 268.909730 secs\n"
     ]
    }
   ],
   "source": [
    "t0 = time()\n",
    "model = ALS.trainImplicit(allData, rank=10, iterations=5, lambda_=0.01, alpha=1.0)\n",
    "t1 = time()\n",
    "print(\"finish training model in %f secs\" % (t1 - t0))"
   ]
  },
  {
   "cell_type": "markdown",
   "metadata": {},
   "source": [
    "#### Question 7.3\n",
    "<div class=\"alert alert-info\">\n",
    "The trained model can be saved into HDFS for later use. This can be done via `model.save(sc, <file_name>)`.\n",
    "Let's use this function to store our model as name `lastfm_model.spark`.\n",
    "</div>\n",
    "\n",
    "NOTE 1: since you may have noticed that building the model takes some time, it might come to your mind that this information could be stored, such that you can \"interrupt\" your laboratory session here, and restart next time by loading your model.\n",
    "\n",
    "NOTE 2: funnily enough, it could take more time to save the model than to build it from scratch! So take a look at the execution time to save the model: this method actually stores the model as Parquet files, which are column-oriented and compressed.\n",
    "\n",
    "NOTE 3: to check you have your file on HDFS, you are invited to open a terminal from the \"Home\" Jupyter dashboard, and type `hdfs dfs -ls` to check."
   ]
  },
  {
   "cell_type": "code",
   "execution_count": 51,
   "metadata": {},
   "outputs": [
    {
     "name": "stdout",
     "output_type": "stream",
     "text": [
      "Deleted lastfm_model_one.spark\n"
     ]
    }
   ],
   "source": [
    "! hdfs dfs -rm -R -f -skipTrash lastfm_model_one.spark\n",
    "model.save( sc , \"lastfm_model_one.spark\")"
   ]
  },
  {
   "cell_type": "markdown",
   "metadata": {},
   "source": [
    "#### Question 7.4\n",
    "<div class=\"alert alert-info\">\n",
    "A saved model can be load from file by using `MatrixFactorizationModel.load(sc, <file_name>)`. \n",
    "\n",
    "Let's load our model from file.\n",
    "</div>"
   ]
  },
  {
   "cell_type": "code",
   "execution_count": 52,
   "metadata": {},
   "outputs": [
    {
     "name": "stdout",
     "output_type": "stream",
     "text": [
      "finish loading model in 1.554451 secs\n"
     ]
    }
   ],
   "source": [
    "t0 = time()\n",
    "model = MatrixFactorizationModel.load(sc, \"lastfm_model_one.spark\")\n",
    "t1 = time()\n",
    "print(\"finish loading model in %f secs\" % (t1 - t0))"
   ]
  },
  {
   "cell_type": "markdown",
   "metadata": {},
   "source": [
    "#### Question 7.5\n",
    "<div class=\"alert alert-info\">\n",
    "Print the first row of user features in our model.\n",
    "</div>"
   ]
  },
  {
   "cell_type": "code",
   "execution_count": 53,
   "metadata": {},
   "outputs": [
    {
     "data": {
      "text/plain": [
       "[(116,\n",
       "  array('d', [0.04625478386878967, 0.002051145303994417, 0.03604276478290558, -0.012370210140943527, -0.035896144807338715, 0.0026291818358004093, -0.02532508783042431, -0.010397730395197868, -0.01702127605676651, -0.06826016306877136]))]"
      ]
     },
     "execution_count": 53,
     "metadata": {},
     "output_type": "execute_result"
    }
   ],
   "source": [
    "model.userFeatures().take(1)"
   ]
  },
  {
   "cell_type": "markdown",
   "metadata": {},
   "source": [
    "### Question 8\n",
    "<div class=\"alert alert-info\">\n",
    "Show the top-5 artist names recommendated for a given user, for example: `2093760` (please, try with different users!).\n",
    "</div>\n",
    "\n",
    "HINT: The recommendations can be given by function `recommendProducts(userID, num_recommendations)`. These recommendations are only artist ids. You have to map them to artist names by using data in `artist_data.txt`."
   ]
  },
  {
   "cell_type": "code",
   "execution_count": 54,
   "metadata": {},
   "outputs": [],
   "source": [
    "# Make five reccommendations to user 2093760\n",
    "recommendations = (model.recommendProducts(2093760, 5))\n",
    "\n",
    "# construct set of recommendated artists\n",
    "recArtist = set([x.product for x in recommendations])"
   ]
  },
  {
   "cell_type": "code",
   "execution_count": 40,
   "metadata": {},
   "outputs": [],
   "source": [
    "# construct data of artists (artist_id, artist_name)\n",
    "rawArtistData = sc.textFile(base + \"artist_data.txt\")\n",
    "\n",
    "def xtractFields(s):\n",
    "    line = re.split(\"\\s|\\t\",s,1)\n",
    "    if (len(line) > 1):\n",
    "        try:\n",
    "            return (int(line[0]), str(line[1].strip()))\n",
    "        except ValueError:\n",
    "            return (-1,\"\")\n",
    "    else: \n",
    "        return (-1,\"\")\n",
    "\n",
    "artistByID = rawArtistData.map(xtractFields).filter(lambda x: x[0] > 0)"
   ]
  },
  {
   "cell_type": "code",
   "execution_count": 56,
   "metadata": {},
   "outputs": [
    {
     "name": "stdout",
     "output_type": "stream",
     "text": [
      "['50 Cent', 'Snoop Dogg', 'Dr. Dre', '2Pac', 'The Game']\n"
     ]
    }
   ],
   "source": [
    "# Filter in those artists, get just artist, and print\n",
    "def artistNames(line):\n",
    "#     [artistID, name]\n",
    "    if (line[0] in recArtist):\n",
    "        return True\n",
    "    else:\n",
    "        return False\n",
    "\n",
    "recList = artistByID.filter(artistNames).values().collect()\n",
    "\n",
    "print(recList)"
   ]
  },
  {
   "cell_type": "markdown",
   "metadata": {},
   "source": [
    "<div class=\"alert alert-danger\">\n",
    "At the moment, it is necessary to manually unpersist the RDDs inside the model when you are done with it. The following function can be used to make sure models are promptly uncached.\n",
    "</div>"
   ]
  },
  {
   "cell_type": "code",
   "execution_count": 41,
   "metadata": {},
   "outputs": [],
   "source": [
    "def unpersist(model):\n",
    "    model.userFeatures().unpersist()\n",
    "    model.productFeatures().unpersist()\n",
    "\n",
    "# uncache data and model when they are no longer used  \n",
    "unpersist(model)"
   ]
  },
  {
   "cell_type": "markdown",
   "metadata": {},
   "source": [
    "## 3.5 Evaluating Recommendation Quality \n",
    "\n",
    "In this section, we study how to evaluate the quality of our model. It's hard to say how good the recommendations are.\n",
    "One of serveral methods approach to evaluate  a recommender based on its ability to rank good items (artists) high in a list of recommendations. The problem is how to define \"good artists\". Currently, by training all data, \"good artists\" is defined as \"artists the user has listened to\", and the recommender system has already received all of this information as input. It could trivially return the users previously-listened artists as top recommendations and score perfectly. Indeed, this is not useful, because the recommender's is used to recommend artists that the user has **never** listened to. \n",
    "\n",
    "To overcome that problem, we can hide some of the artist play data and only use the rest to train model. Then, this held-out data can be interpreted as a collection of \"good\" recommendations for each user. The recommender is asked to rank all items in the model, and the rank of the held-out artists are examined. Ideally the recommender places all of them at or near the top of the list.\n",
    "\n",
    "The recommender's score can then be computed by comparing all held-out artists' ranks to the rest.  The fraction of pairs where the held-out artist is ranked higher is its score. 1.0 is perfect, 0.0 is the worst possible score, and 0.5 is the expected value achieved from randomly ranking artists. \n",
    "\n",
    "AUC(Area Under the Curve) can be used as a metric to evaluate model. It is also viewed as the probability that a randomly-chosen \"good\" artist ranks above a randomly-chosen \"bad\" artist.\n",
    "\n",
    "Next, we split the training data into 2 parts: `trainData` and `cvData` with ratio 0.9:0.1 respectively, where `trainData` is the dataset that will be used to train model. Then we write a function to calculate AUC to evaluate the quality of our model.\n"
   ]
  },
  {
   "cell_type": "markdown",
   "metadata": {},
   "source": [
    "### Question 9\n",
    "\n",
    "#### Question 9.1\n",
    "<div class=\"alert alert-info\">\n",
    "Split the data into `trainData` and `cvData` with ratio 0.9:0.1 and use the first part to train a statistic model with:\n",
    "<ul>\n",
    "<li>`rank`=10</li>\n",
    "<li>`iterations`=5</li>\n",
    "<li>`lambda_`=0.01</li>\n",
    "<li>`alpha`=1.0</li>\n",
    "</ul>\n",
    "</div>"
   ]
  },
  {
   "cell_type": "code",
   "execution_count": 58,
   "metadata": {},
   "outputs": [
    {
     "data": {
      "text/plain": [
       "PythonRDD[572] at RDD at PythonRDD.scala:48"
      ]
     },
     "execution_count": 58,
     "metadata": {},
     "output_type": "execute_result"
    }
   ],
   "source": [
    "trainData, cvData = allData.randomSplit([9,1])\n",
    "trainData.cache()\n",
    "cvData.cache()"
   ]
  },
  {
   "cell_type": "code",
   "execution_count": 59,
   "metadata": {},
   "outputs": [
    {
     "name": "stdout",
     "output_type": "stream",
     "text": [
      "finish training model in 69.716774 secs\n"
     ]
    }
   ],
   "source": [
    "t0 = time()\n",
    "model = ALS.trainImplicit( trainData, rank=10, iterations=5, lambda_=0.01, alpha=1.0)\n",
    "t1 = time()\n",
    "print(\"finish training model in %f secs\" % (t1 - t0))"
   ]
  },
  {
   "cell_type": "markdown",
   "metadata": {},
   "source": [
    "#### Area under the ROC curve: a function to compute it"
   ]
  },
  {
   "cell_type": "code",
   "execution_count": 42,
   "metadata": {
    "collapsed": true
   },
   "outputs": [],
   "source": [
    "# Get all unique artistId, and broadcast them\n",
    "allItemIDs = np.array(allData.map(lambda x: x[1]).distinct().collect())\n",
    "bAllItemIDs = sc.broadcast(allItemIDs)"
   ]
  },
  {
   "cell_type": "code",
   "execution_count": 43,
   "metadata": {},
   "outputs": [],
   "source": [
    "from random import randint\n",
    "\n",
    "# Depend on the number of item in userIDAndPosItemIDs,\n",
    "# create a set of \"negative\" products for each user. These are randomly chosen\n",
    "# from among all of the other items, excluding those that are \"positive\" for the user.\n",
    "# NOTE 1: mapPartitions operates on many (user,positive-items) pairs at once\n",
    "# NOTE 2: flatMap breaks the collections above down into one big set of tuples\n",
    "def xtractNegative(userIDAndPosItemIDs):\n",
    "    def pickEnoughNegatives(line):\n",
    "        userID = line[0]\n",
    "        posItemIDSet = set(line[1])\n",
    "        #posItemIDSet = line[1]\n",
    "        negative = []\n",
    "        \n",
    "        IDs = bAllItemIDs.value\n",
    "        # Keep about as many negative examples per user as positive. Duplicates are OK.\n",
    "        i = 0\n",
    "        while (i < len(IDs) and len(negative) < len(posItemIDSet)):\n",
    "            itemID = IDs[randint(0,len(IDs)-1)]\n",
    "            if itemID not in posItemIDSet:\n",
    "                negative.append(itemID)\n",
    "            i += 1\n",
    "        \n",
    "        # Result is a collection of (user,negative-item) tuples\n",
    "        return map(lambda itemID: (userID, itemID), negative)\n",
    "\n",
    "    # Init an RNG and the item IDs set once for partition\n",
    "    # allItemIDs = bAllItemIDs.value\n",
    "    return map(pickEnoughNegatives, userIDAndPosItemIDs)\n",
    "\n",
    "def ratioOfCorrectRanks(positiveRatings, negativeRatings):\n",
    "    \n",
    "    # find number elements in arr that has index >= start and has value smaller than x\n",
    "    # arr is a sorted array\n",
    "    def findNumElementsSmallerThan(arr, x, start=0):\n",
    "        left = start\n",
    "        right = len(arr) -1\n",
    "        # if x is bigger than the biggest element in arr\n",
    "        if start > right or x > arr[right]:\n",
    "            return right + 1\n",
    "        mid = -1\n",
    "        while left <= right:\n",
    "            mid = (left + right) // 2\n",
    "            if arr[mid] < x:\n",
    "                left = mid + 1\n",
    "            elif arr[mid] > x:\n",
    "                right = mid - 1\n",
    "            else:\n",
    "                while mid-1 >= start and arr[mid-1] == x:\n",
    "                    mid -= 1\n",
    "                return mid\n",
    "        return mid if arr[mid] > x else mid + 1\n",
    "    \n",
    "    ## AUC may be viewed as the probability that a random positive item scores\n",
    "    ## higher than a random negative one. Here the proportion of all positive-negative\n",
    "    ## pairs that are correctly ranked is computed. The result is equal to the AUC metric.\n",
    "    correct = 0 ## L\n",
    "    total = 0 ## L\n",
    "    \n",
    "    # sorting positiveRatings array needs more cost\n",
    "    #positiveRatings = np.array(map(lambda x: x.rating, positiveRatings))\n",
    "\n",
    "    negativeRatings = list(map(lambda x:x.rating, negativeRatings))\n",
    "    \n",
    "    #np.sort(positiveRatings)\n",
    "    negativeRatings.sort()# = np.sort(negativeRatings)\n",
    "    total = len(positiveRatings)*len(negativeRatings)\n",
    "    \n",
    "    for positive in positiveRatings:\n",
    "        # Count the correctly-ranked pairs\n",
    "        correct += findNumElementsSmallerThan(negativeRatings, positive.rating)\n",
    "        \n",
    "    ## Return AUC: fraction of pairs ranked correctly\n",
    "    return float(correct) / total\n",
    "\n",
    "def calculateAUC(positiveData, bAllItemIDs, predictFunction):\n",
    "    # Take held-out data as the \"positive\", and map to tuples\n",
    "    positiveUserProducts = positiveData.map(lambda r: (r[0], r[1]))\n",
    "    # Make predictions for each of them, including a numeric score, and gather by user\n",
    "    positivePredictions = predictFunction(positiveUserProducts).groupBy(lambda r: r.user)\n",
    "    \n",
    "    # Create a set of \"negative\" products for each user. These are randomly chosen \n",
    "    # from among all of the other items, excluding those that are \"positive\" for the user. \n",
    "    negativeUserProducts = positiveUserProducts.groupByKey().mapPartitions(xtractNegative).flatMap(lambda x: x)\n",
    "    # Make predictions on the rest\n",
    "    negativePredictions = predictFunction(negativeUserProducts).groupBy(lambda r: r.user)\n",
    "    \n",
    "    return (\n",
    "            positivePredictions.join(negativePredictions)\n",
    "                .values()\n",
    "                .map(\n",
    "                    lambda positive_negativeRatings: ratioOfCorrectRanks(positive_negativeRatings[0], positive_negativeRatings[1])\n",
    "                )\n",
    "                .mean()\n",
    "            )"
   ]
  },
  {
   "cell_type": "markdown",
   "metadata": {},
   "source": [
    "####  Question 9.2\n",
    "<div class=\"alert alert-info\">\n",
    "Using part `cvData` and function `calculateAUC` to compute the AUC of the trained model.\n",
    "</div>"
   ]
  },
  {
   "cell_type": "code",
   "execution_count": 62,
   "metadata": {},
   "outputs": [
    {
     "name": "stdout",
     "output_type": "stream",
     "text": [
      "auc= 0.965386645077415\n",
      "finish in 47.889809 seconds\n"
     ]
    }
   ],
   "source": [
    "t0 = time()\n",
    "auc = calculateAUC( cvData , bAllItemIDs, model.predictAll)\n",
    "t1 = time()\n",
    "print(\"auc=\",auc)\n",
    "print(\"finish in %f seconds\" % (t1 - t0))"
   ]
  },
  {
   "cell_type": "markdown",
   "metadata": {},
   "source": [
    "#### Question 9.3\n",
    "<div class=\"alert alert-info\">\n",
    "Now we have the AUC of our model, it’s helpful to benchmark this against a simpler approach. For example, consider recommending the globally most-played artists to every user. This is not personalized, but is simple and may be effective.   \n",
    "<ul></ul>\n",
    "Implement this simple pupolarity-based prediction algorithm, evaluate its AUC score, and compare to the results achieved by the more sophisticated ALS algorithm.\n",
    "</div>"
   ]
  },
  {
   "cell_type": "code",
   "execution_count": 63,
   "metadata": {},
   "outputs": [],
   "source": [
    "bListenCount = sc.broadcast(trainData.map(lambda r: (r[1], r[2])).reduceByKey(add).collectAsMap())\n",
    "def predictMostListened(allData):\n",
    "    return allData.map(lambda r: Rating(r[0], r[1], bListenCount.value.get( r[1], 0.0)))"
   ]
  },
  {
   "cell_type": "code",
   "execution_count": 64,
   "metadata": {},
   "outputs": [
    {
     "name": "stdout",
     "output_type": "stream",
     "text": [
      "0.9389414483994514\n"
     ]
    }
   ],
   "source": [
    "auc = calculateAUC(cvData, bAllItemIDs, predictMostListened)\n",
    "print(auc)"
   ]
  },
  {
   "cell_type": "markdown",
   "metadata": {},
   "source": [
    "<div class=\"alert alert-warning\" align=\"justify\">\n",
    "The result obtained by using the simpler approach is close to the one obtained preaviously because if most of the users like one artist, then it is very likely that the others will too, also because the model we use is 'biased' towards artist with higher playcounts and the playcount difference between the most played artists and the others is very wide.<br><br>\n",
    "\n",
    "Anyway, this approach will perform very bad for artist that have a very high play count but a low audience, meaning that they are not really popular and so only a few of the users will like them. This last sentence drives us to a last assumption: with a larger and cleaner dataset, the performance of the most-played artist approach would still be good, but not as good as in this case because there would be more heterogeneity in the users' musical tastes.\n",
    "</div>"
   ]
  },
  {
   "cell_type": "markdown",
   "metadata": {},
   "source": [
    "## 3.6 Personalized recommendations with ALS\n",
    "\n",
    "In the previous section, we build our models with some given parameters without any knowledge about them. Actually, choosing the best parameters' values is very important. It can significantly affect the quality of models. Especially, with the current implementation of ALS in MLLIB, these parameters are not learned by the algorithm, and must be chosen by the caller. The following parameters should get consideration before training models:\n",
    "\n",
    "* `rank = 10`: the number of latent factors in the model, or equivalently, the number of columns $k$ in the user-feature and product-feature matrices. In non-trivial cases, this is also their rank. \n",
    "\n",
    "* `iterations = 5`: the number of iterations that the factorization runs. Instead of runing the algorithm until RMSE converged which actually takes very long time to finish with large datasets, we only let it run in a given number of iterations. More iterations take more time but may produce a better factorization.\n",
    "\n",
    "* `lambda_ = 0.01`: a standard overfitting parameter. Higher values resist overfitting, but values that are too high hurt the factorization's accuracy.\n",
    "\n",
    "*  `alpha = 1.0`: controls the relative weight of observed versus unobserved userproduct interactions in the factorization. \n",
    "\n",
    "Although all of them have impact on the models' quality, `iterations` is more of a constraint on resources used in the factorization. So, `rank`, `lambda_` and `alpha` can be considered hyperparameters to the model. \n",
    "We will try to find \"good\" values for them. Indeed, the values of hyperparameter are not necessarily optimal. Choosing good hyperparameter values is a common problem in machine learning. The most basic way to choose values is to simply try combinations of values and evaluate a metric for each of them, and choose the combination that produces the best value of the metric. \n"
   ]
  },
  {
   "cell_type": "markdown",
   "metadata": {},
   "source": [
    "### Question 10\n",
    "\n",
    "#### Question 10.1\n",
    "<div class=\"alert alert-info\">\n",
    "For simplicity, assume that we want to explore the following parameter space: $ rank \\in \\{10, 50\\}$, $lambda\\_ \\in \\{1.0, 0.0001\\}$ and $alpha \\in \\{1.0, 40.0\\}$.\n",
    "\n",
    "Find the best combination of them in terms of the highest AUC value.\n",
    "</div>"
   ]
  },
  {
   "cell_type": "code",
   "execution_count": 65,
   "metadata": {},
   "outputs": [
    {
     "name": "stdout",
     "output_type": "stream",
     "text": [
      "Train model with rank=10 lambda_=1.000000 alpha=1.000000\n",
      "Train model with rank=10 lambda_=1.000000 alpha=40.000000\n",
      "Train model with rank=10 lambda_=0.000100 alpha=1.000000\n",
      "Train model with rank=10 lambda_=0.000100 alpha=40.000000\n",
      "Train model with rank=50 lambda_=1.000000 alpha=1.000000\n",
      "Train model with rank=50 lambda_=1.000000 alpha=40.000000\n",
      "Train model with rank=50 lambda_=0.000100 alpha=1.000000\n",
      "Train model with rank=50 lambda_=0.000100 alpha=40.000000\n"
     ]
    }
   ],
   "source": [
    "evaluations = []\n",
    "\n",
    "for rank in [10, 50]:\n",
    "    for lambda_ in [1.0, 0.0001]:\n",
    "        for alpha in [1.0, 40.0]:\n",
    "            print(\"Train model with rank=%d lambda_=%f alpha=%f\" % (rank, lambda_, alpha))\n",
    "            # with each combination of params, we should run multiple times and get avg\n",
    "            # for simple, we only run one time.\n",
    "            model = ALS.trainImplicit( trainData, rank=rank, iterations=5, lambda_= lambda_, alpha=alpha )\n",
    "            \n",
    "            auc = calculateAUC(cvData , bAllItemIDs, model.predictAll)\n",
    "            \n",
    "            evaluations.append(((rank, lambda_, alpha), auc))\n",
    "            \n",
    "            unpersist(model)"
   ]
  },
  {
   "cell_type": "code",
   "execution_count": 66,
   "metadata": {},
   "outputs": [
    {
     "data": {
      "text/html": [
       "<div>\n",
       "<style scoped>\n",
       "    .dataframe tbody tr th:only-of-type {\n",
       "        vertical-align: middle;\n",
       "    }\n",
       "\n",
       "    .dataframe tbody tr th {\n",
       "        vertical-align: top;\n",
       "    }\n",
       "\n",
       "    .dataframe thead th {\n",
       "        text-align: right;\n",
       "    }\n",
       "</style>\n",
       "<table border=\"1\" class=\"dataframe\">\n",
       "  <thead>\n",
       "    <tr style=\"text-align: right;\">\n",
       "      <th></th>\n",
       "      <th>0</th>\n",
       "      <th>1</th>\n",
       "    </tr>\n",
       "  </thead>\n",
       "  <tbody>\n",
       "    <tr>\n",
       "      <th>0</th>\n",
       "      <td>(50, 1.0, 40.0)</td>\n",
       "      <td>0.977154</td>\n",
       "    </tr>\n",
       "    <tr>\n",
       "      <th>1</th>\n",
       "      <td>(10, 1.0, 40.0)</td>\n",
       "      <td>0.976875</td>\n",
       "    </tr>\n",
       "    <tr>\n",
       "      <th>2</th>\n",
       "      <td>(10, 0.0001, 40.0)</td>\n",
       "      <td>0.976246</td>\n",
       "    </tr>\n",
       "    <tr>\n",
       "      <th>3</th>\n",
       "      <td>(50, 0.0001, 40.0)</td>\n",
       "      <td>0.975588</td>\n",
       "    </tr>\n",
       "    <tr>\n",
       "      <th>4</th>\n",
       "      <td>(10, 1.0, 1.0)</td>\n",
       "      <td>0.970261</td>\n",
       "    </tr>\n",
       "    <tr>\n",
       "      <th>5</th>\n",
       "      <td>(50, 1.0, 1.0)</td>\n",
       "      <td>0.966759</td>\n",
       "    </tr>\n",
       "    <tr>\n",
       "      <th>6</th>\n",
       "      <td>(10, 0.0001, 1.0)</td>\n",
       "      <td>0.966322</td>\n",
       "    </tr>\n",
       "    <tr>\n",
       "      <th>7</th>\n",
       "      <td>(50, 0.0001, 1.0)</td>\n",
       "      <td>0.954035</td>\n",
       "    </tr>\n",
       "  </tbody>\n",
       "</table>\n",
       "</div>"
      ],
      "text/plain": [
       "                    0         1\n",
       "0     (50, 1.0, 40.0)  0.977154\n",
       "1     (10, 1.0, 40.0)  0.976875\n",
       "2  (10, 0.0001, 40.0)  0.976246\n",
       "3  (50, 0.0001, 40.0)  0.975588\n",
       "4      (10, 1.0, 1.0)  0.970261\n",
       "5      (50, 1.0, 1.0)  0.966759\n",
       "6   (10, 0.0001, 1.0)  0.966322\n",
       "7   (50, 0.0001, 1.0)  0.954035"
      ]
     },
     "metadata": {},
     "output_type": "display_data"
    },
    {
     "data": {
      "text/plain": [
       "PythonRDD[572] at RDD at PythonRDD.scala:48"
      ]
     },
     "execution_count": 66,
     "metadata": {},
     "output_type": "execute_result"
    }
   ],
   "source": [
    "evaluations.sort(key=lambda x: x[1], reverse=True)\n",
    "                 \n",
    "evalDataFrame = pd.DataFrame(data=evaluations)\n",
    "display(evalDataFrame)\n",
    "\n",
    "trainData.unpersist()\n",
    "cvData.unpersist()"
   ]
  },
  {
   "cell_type": "markdown",
   "metadata": {},
   "source": [
    "<div class=\"alert alert-warning\" align=\"justify\">\n",
    "After running the above evaluation multiple times it can be noticed how the best alpha parameter is always 40 while the other optimal parameters (especially lambda) tend to vary between different executions.<br><br>\n",
    "\n",
    "An initially unexpected result is rank = 10 because it could be thought that the more the latent features, the more accurate the results. But actually this is not true (as the results show) because more latent features meand a more complex error function to optimize, and therefore more local minima.\n",
    "</div>"
   ]
  },
  {
   "cell_type": "markdown",
   "metadata": {},
   "source": [
    "#### Question 10.2 \n",
    "<div class=\"alert alert-info\">\n",
    "Using \"optimal\" hyper-parameters in question 10.1, re-train the model and show top-5 artist names recommendated for user `2093760`.\n",
    "</div>"
   ]
  },
  {
   "cell_type": "code",
   "execution_count": 44,
   "metadata": {},
   "outputs": [
    {
     "name": "stdout",
     "output_type": "stream",
     "text": [
      "['50 Cent', 'Jay-Z', 'Kanye West', '2Pac', 'Eminem']\n"
     ]
    }
   ],
   "source": [
    "params=[50, 1.0, 40.0]\n",
    "model = ALS.trainImplicit(ratings=allData, rank=params[0], iterations=5, lambda_=params[1], alpha=params[2])\n",
    "allData.unpersist()\n",
    "\n",
    "def artistNames(line):\n",
    "#     [artistID, name]\n",
    "    if (line[0] in recommendedProductIDs):\n",
    "        return True\n",
    "    else:\n",
    "        return False\n",
    "\n",
    "userID = 2093760\n",
    "recommendations = model.recommendProducts(userID, 5)\n",
    "recommendedProductIDs = set([x.product for x in recommendations])\n",
    "recList = artistByID.filter(artistNames).values().collect()\n",
    "print(recList)\n",
    "\n",
    "unpersist(model)"
   ]
  },
  {
   "cell_type": "markdown",
   "metadata": {},
   "source": [
    "<div class=\"alert alert-warning\" align=\"justify\">\n",
    "We might want to save this model, with the optimized hyper-parameters to use it in the next session where we're are going to test some other techniques.\n",
    "</div>"
   ]
  },
  {
   "cell_type": "code",
   "execution_count": 45,
   "metadata": {},
   "outputs": [
    {
     "name": "stdout",
     "output_type": "stream",
     "text": [
      "Deleted lastfm_model_best.spark\n"
     ]
    }
   ],
   "source": [
    "! hdfs dfs -rm -R -f -skipTrash lastfm_model_best.spark\n",
    "model.save( sc , \"lastfm_model_best.spark\")"
   ]
  },
  {
   "cell_type": "markdown",
   "metadata": {},
   "source": [
    "## 4 Experimental explorations"
   ]
  },
  {
   "cell_type": "markdown",
   "metadata": {},
   "source": [
    "### 4.1 Outliers "
   ]
  },
  {
   "cell_type": "markdown",
   "metadata": {},
   "source": [
    "<div class=\"alert alert-warning\" align=\"justify\">\n",
    "As already stated in the first part of the notebook, a clean dataset is foundamental in order to get good result from the model.\n",
    "In this section we analised the dataset and removed some outliers, finally we evaluated again the model to look for any improvement.<br><br>\n",
    "\n",
    "In order to find outliers, it is needed to define a metric and a threshold over it. We first analysed the users distribution in terms of total play count and then in terms of curiosity.<br>\n",
    "A similar analysis could be done over the artists too in terms of total play count and audience size but, in this case, removing ouliers would just mean eliminating the most popular artists from the dataset which would not lead to more correct recommendations (we have already seen in question 9.3 that a model using the most popular artists gives quite good results).\n",
    "</div>"
   ]
  },
  {
   "cell_type": "markdown",
   "metadata": {},
   "source": [
    "### 4.1.1 Remove outliers by play count"
   ]
  },
  {
   "cell_type": "markdown",
   "metadata": {},
   "source": [
    "<div class=\"alert alert-warning\" align=\"justify\">\n",
    "In this section we remove the outliers users by total play count. The threshold used is one order of magnitude bigger than the 90th percentile because it fits better the definition of outliers: there are very few users above that threshold and their play count are very far from the rest of the distribution.<br><br>\n",
    "\n",
    "We suppose the system recommendations will improve because, even if there are just few outliers, their values could strongly condition the model (in 4.2 we suggest another way to smooth the differences in the ranking values).<br>\n",
    "A possible hypothesis regarding the origin of such high play counts is that the corresponding users are actually bots, therefore they need to be removed from the recommendation system.\n",
    "</div>"
   ]
  },
  {
   "cell_type": "code",
   "execution_count": 69,
   "metadata": {},
   "outputs": [
    {
     "name": "stdout",
     "output_type": "stream",
     "text": [
      "Now the dataset contains No. 148012 Users\n"
     ]
    }
   ],
   "source": [
    "# find users that are not outliers and display the new count\n",
    "percentile90 = int(percentiles_values_users[-1])\n",
    "outlier_value = percentile90*10\n",
    "\n",
    "NoOutliersDF_playC = (\n",
    "    newUserArtistDF.groupBy(\"userID\")\n",
    "                    .agg(sum(\"playCount\").alias(\"TotPlayCount\"))\n",
    "                    .orderBy(\"TotPlayCount\", ascending=0)\n",
    ")\n",
    "NoOutliersDF_playC = NoOutliersDF_playC[NoOutliersDF_playC.TotPlayCount < outlier_value]\n",
    "\n",
    "new_count = NoOutliersDF_playC.agg(countDistinct(\"userID\")).collect()\n",
    "\n",
    "print(\"Now the dataset contains No. \" + str(new_count[0][0]) + \" Users\")"
   ]
  },
  {
   "cell_type": "code",
   "execution_count": 70,
   "metadata": {},
   "outputs": [],
   "source": [
    "# remove outliers from the UserArtist dataset\n",
    "UserArtistNoOutliers = newUserArtistDF.join(NoOutliersDF_playC, NoOutliersDF_playC.userID==newUserArtistDF.userID, \"inner\")\\\n",
    "    .select(newUserArtistDF.userID, newUserArtistDF.artistID, newUserArtistDF.playCount).rdd.map(lambda x: (x[0], x[1], x[2]))\n",
    "    "
   ]
  },
  {
   "cell_type": "code",
   "execution_count": 59,
   "metadata": {},
   "outputs": [],
   "source": [
    "# define a function to prepare the dataset for the evaluation in order to reuse the previously defined calculateAUC function\n",
    "def prepare_model(dataset, mapRating = lambda r: Rating(r[0], r[1], r[2]), rank=50, iterations=5, lambda_=1.0, alpha=40.0):    \n",
    "    allData = dataset.map(mapRating).repartition(4).cache()\n",
    "    \n",
    "    # separate dataset to get a training set and a test set\n",
    "    trainData, cvData = allData.randomSplit([9,1])\n",
    "    trainData.cache()\n",
    "    cvData.cache()    \n",
    "    \n",
    "    # create model\n",
    "    model = ALS.trainImplicit(trainData, rank = rank, iterations = iterations, lambda_ = lambda_, alpha = alpha)\n",
    "    trainData.unpersist()\n",
    "    \n",
    "    # get all unique artistId\n",
    "    allItemIDs = np.array(allData.map(lambda x: x[1]).distinct().collect())\n",
    "    \n",
    "    return model, allItemIDs, cvData"
   ]
  },
  {
   "cell_type": "code",
   "execution_count": 72,
   "metadata": {},
   "outputs": [
    {
     "name": "stdout",
     "output_type": "stream",
     "text": [
      "AUC = 0.9767328867089502\n"
     ]
    }
   ],
   "source": [
    "model, allItemIDs, cvData = prepare_model(UserArtistNoOutliers, rank=params[0], iterations=5, lambda_=params[1], alpha=params[2])\n",
    "bAllItemIDs = sc.broadcast(allItemIDs)\n",
    "\n",
    "# calculate area under the curve\n",
    "auc = calculateAUC( cvData , bAllItemIDs, model.predictAll)\n",
    "cvData.unpersist()\n",
    "\n",
    "print(\"AUC = \" + str(auc))"
   ]
  },
  {
   "cell_type": "markdown",
   "metadata": {},
   "source": [
    "### 4.1.2 Remove outliers by curiosity"
   ]
  },
  {
   "cell_type": "markdown",
   "metadata": {},
   "source": [
    "<div class=\"alert alert-warning\" align=\"justify\">\n",
    "The curiosity can also be considered a dimension over which we can find outliers. The threshold chosen is again 10 times more than the 90 percentile of the curiosity ECDF.<br><br>\n",
    "\n",
    "In this case an abnormal value of curiosity could still affect our model: an high level of curiosity could lead a user to be similar to too many users. When applying a collaboratorive filtering approach, this can lead to the identification of false \"trends\".<br><br>\n",
    "\n",
    "Let's consider an example: if we want to make recommendations for a user which likes Rock music, these could be affected also by \"curiosity outliers\" which could like many music's genres. In the extreme case, the model could predict music uncorrelated to the original tastes of the user, because it consideres him similar to the outliers.<br><br>\n",
    "\n",
    "Moreover, the same consideration made for the play count outliers can be made in this case: given the too high number of different artists listened by a single user, it could be just a bot.\n",
    "</div>"
   ]
  },
  {
   "cell_type": "code",
   "execution_count": 73,
   "metadata": {},
   "outputs": [
    {
     "data": {
      "image/png": "[encoded data removed]",
      "text/plain": [
       "<matplotlib.figure.Figure at 0x7fb72f86def0>"
      ]
     },
     "metadata": {},
     "output_type": "display_data"
    }
   ],
   "source": [
    "# calculate dataset of users in terms of curiosity\n",
    "UsersByCuriosity = (\n",
    "    newUserArtistDF.groupBy(\"userID\")\n",
    "                    .agg(countDistinct(\"artistID\").alias(\"curiosity\"))\n",
    "                    .orderBy('curiosity', ascending=0)\n",
    "                    .collect()\n",
    ")\n",
    "\n",
    "pdf = pd.DataFrame(data=UsersByCuriosity)\n",
    "\n",
    "# plot the ECDF of the curiosity\n",
    "Y = np.sort( pdf[1])\n",
    "yvals = np.arange(len(Y))/float(len(Y))\n",
    "\n",
    "percentile = [10, 25, 50, 75, 90]\n",
    "colors = ['black', 'red', 'green', 'blue', 'black']\n",
    "rank = [int(x / 100 * (len(yvals) + 1)) for x in percentile]\n",
    "rank_plot = [yvals[x] for x in rank]\n",
    "percentiles_values_users_curiosity = [Y[x] for x in rank]\n",
    "\n",
    "plt.figure(figsize=(15, 8))\n",
    "\n",
    "ax = plt.subplot()\n",
    "ax.set_xscale(\"log\")\n",
    "\n",
    "plt.plot(Y, yvals)\n",
    "plt.scatter(percentiles_values_users_curiosity,\n",
    "            rank_plot, \n",
    "            c = colors,\n",
    "            marker = 'o')\n",
    "ax.vlines(percentiles_values_users_curiosity, [0], rank_plot, color=colors)\n",
    "ax.hlines(rank_plot, [0], percentiles_values_users_curiosity, color=colors)\n",
    "for i in range(len(rank_plot)):\n",
    "    ax.annotate(\"  \" + str(percentiles_values_users_curiosity[i]), (percentiles_values_users_curiosity[i], rank_plot[i]))\n",
    "plt.xlabel('Curiosity')\n",
    "plt.ylabel('ECDF')\n",
    "plt.grid(True,which=\"both\",ls=\"-\")\n",
    "plt.title('ECDF of curiosity for User ID')\n",
    "plt.show()"
   ]
  },
  {
   "cell_type": "code",
   "execution_count": 74,
   "metadata": {},
   "outputs": [
    {
     "name": "stdout",
     "output_type": "stream",
     "text": [
      "Now the dataset contains No. 148068 Users\n"
     ]
    }
   ],
   "source": [
    "# calculate top 10 users in terms of curiosity\n",
    "percentile90 = int(percentiles_values_users_curiosity[-1])\n",
    "outlier_value = percentile90*10\n",
    "\n",
    "NoOutliersDF_Cur = (\n",
    "    newUserArtistDF.groupBy(\"userID\")\n",
    "                    .agg(countDistinct(\"artistID\").alias(\"curiosity\"))\n",
    "                    .orderBy('curiosity', ascending=0)\n",
    ")\n",
    "NoOutliersDF_Cur = NoOutliersDF_Cur[NoOutliersDF_Cur.curiosity < outlier_value]\n",
    "NoOutliers_Cur = NoOutliersDF_Cur.take(10)\n",
    "\n",
    "new_count = NoOutliersDF_Cur.agg(countDistinct(\"userID\")).collect()\n",
    "\n",
    "print(\"Now the dataset contains No. \" + str(new_count[0][0]) + \" Users\")"
   ]
  },
  {
   "cell_type": "code",
   "execution_count": 75,
   "metadata": {},
   "outputs": [],
   "source": [
    "# remove outliers from the dataset\n",
    "UserArtistNoOutliersCur = newUserArtistDF.join(NoOutliersDF_Cur, NoOutliersDF_Cur.userID==newUserArtistDF.userID, \"inner\")\\\n",
    "    .select(newUserArtistDF.userID, newUserArtistDF.artistID, newUserArtistDF.playCount).rdd.map(lambda x: (x[0], x[1], x[2]))"
   ]
  },
  {
   "cell_type": "code",
   "execution_count": 76,
   "metadata": {},
   "outputs": [
    {
     "name": "stdout",
     "output_type": "stream",
     "text": [
      "AUC = 0.976620870372506\n"
     ]
    }
   ],
   "source": [
    "# evaluate the model on the new dataset\n",
    "model, allItemIDs, cvData = prepare_model(UserArtistNoOutliersCur, rank=params[0], iterations=5, lambda_=params[1], alpha=params[2])\n",
    "bAllItemIDs = sc.broadcast(allItemIDs)\n",
    "\n",
    "# calculate area under the curve\n",
    "auc = calculateAUC( cvData , bAllItemIDs, model.predictAll)\n",
    "cvData.unpersist()\n",
    "\n",
    "print(\"AUC = \" + str(auc))"
   ]
  },
  {
   "cell_type": "markdown",
   "metadata": {},
   "source": [
    "<div class=\"alert alert-warning\" align=\"justify\">\n",
    "As expected, in both cases the AUC value improves slightly, also because the actual already has good results considering its simple architecture and the not-so-clean dataset used.<br>\n",
    "Moreover, some comments should be done regarding the evaluation of the model, they are provided in last section of this notebook: Summary.\n",
    "</div>"
   ]
  },
  {
   "cell_type": "markdown",
   "metadata": {},
   "source": [
    "### 4.2 Model using log of the rating"
   ]
  },
  {
   "cell_type": "markdown",
   "metadata": {},
   "source": [
    "<div class=\"alert alert-warning\" align=\"justify\">\n",
    "In our dataset the play counts of each pair userID-artistID may vary of many orders of magnitude from one to the other. In order to have a system which is more fair between artists that have different ratings, it is possible to use the logarithm of the play count as rating.\n",
    "</div>"
   ]
  },
  {
   "cell_type": "code",
   "execution_count": 62,
   "metadata": {},
   "outputs": [
    {
     "name": "stdout",
     "output_type": "stream",
     "text": [
      "AUC = 0.9827368996060983\n"
     ]
    }
   ],
   "source": [
    "# get the dataset and prepare the model\n",
    "cleanedArtistData = userArtistDataRDD.map(lambda x: ((x[0], x[1]), x[2])).reduceByKey(add)\n",
    "\n",
    "model, allItemsID, cvData = prepare_model(cleanedArtistData, \n",
    "            mapRating = lambda r: Rating(r[0][0], r[0][1], 1+np.log(1+r[1])), \n",
    "            rank=params[0], \n",
    "            iterations=5, \n",
    "            lambda_=params[1], \n",
    "            alpha=params[2])\n",
    "\n",
    "# evaluate the model using the log\n",
    "#model, allItemIDs, cvData = prepare_model(cleanedArtistData, rank=params[0], iterations=5, lambda_=params[1], alpha=params[2])\n",
    "bAllItemIDs = sc.broadcast(allItemIDs)\n",
    "\n",
    "# calculate area under the curve\n",
    "auc = calculateAUC( cvData , bAllItemIDs, model.predictAll)\n",
    "cvData.unpersist()\n",
    "\n",
    "print(\"AUC = \" + str(auc))"
   ]
  },
  {
   "cell_type": "markdown",
   "metadata": {},
   "source": [
    "<div class=\"alert alert-warning\" align=\"justify\">\n",
    "As expected the regularization leads to a small variation of the UAC, it is not always an improvement because of the choice of training and validation sets. In the formula used, the addition of the constant 1, both inside and outside the log, helps to further reduce the ratio between high and low rating, and to deal with very low values.\n",
    "</div>"
   ]
  },
  {
   "cell_type": "markdown",
   "metadata": {},
   "source": [
    "### 4.3 Hybrid approach: Collaborative Filtering & Content-Based recommendations"
   ]
  },
  {
   "cell_type": "markdown",
   "metadata": {},
   "source": [
    "#### 4.3.1 Clustering of users"
   ]
  },
  {
   "cell_type": "markdown",
   "metadata": {},
   "source": [
    "<div class=\"alert alert-warning\" align=\"justify\">\n",
    "The collaborative filtering approach gives us fair results, but it still has some limitations, it is too mechanical and simplistic. A good improvement to the actual recommendations could be to weight the final ratings on the ones of other users that have similar tastes. By doing so it is possible to recommend an user with an artist that probably doesn't match the other artists he listens to, but can anyway match his tastes.\n",
    "</div>"
   ]
  },
  {
   "cell_type": "code",
   "execution_count": 46,
   "metadata": {},
   "outputs": [],
   "source": [
    "from pyspark.mllib.recommendation import ALS, MatrixFactorizationModel, Rating\n",
    "from pyspark.mllib.clustering import KMeans, KMeansModel\n",
    "from time import time\n",
    "import matplotlib.pyplot as plt\n",
    "from math import sqrt"
   ]
  },
  {
   "cell_type": "code",
   "execution_count": 47,
   "metadata": {},
   "outputs": [
    {
     "name": "stdout",
     "output_type": "stream",
     "text": [
      "Took 4 seconds to load the model\n"
     ]
    }
   ],
   "source": [
    "# Load the best model obtained by ALS\n",
    "t0 = time()\n",
    "model = MatrixFactorizationModel.load(sc, \"lastfm_model_best.spark\")\n",
    "t1 = time()\n",
    "print(\"Took %d seconds to load the model\" % (t1-t0))"
   ]
  },
  {
   "cell_type": "markdown",
   "metadata": {},
   "source": [
    "<div class=\"alert alert-warning\" align=\"justify\">\n",
    "The proposed hybrid approach begins with the clustering of users features by using the k-means algorithm already implemented inside MLlib.<br>\n",
    "Since it is hard to estimate a good number of clusters in the space of user features, we will try to execute the k-means algorithm with different numbers of clusters and apply the elbow rule by plotting the heterogeneity of each model.\n",
    "</div>"
   ]
  },
  {
   "cell_type": "code",
   "execution_count": 48,
   "metadata": {},
   "outputs": [],
   "source": [
    "# get the matrix of user features\n",
    "userFeatures = model.userFeatures().map(lambda x: list(x[1]))"
   ]
  },
  {
   "cell_type": "code",
   "execution_count": 49,
   "metadata": {},
   "outputs": [
    {
     "name": "stdout",
     "output_type": "stream",
     "text": [
      "Starting k-means with k=2... Starting k-means with k=3... Starting k-means with k=4... Starting k-means with k=5... Starting k-means with k=6... Starting k-means with k=7... Starting k-means with k=8... Starting k-means with k=9... Starting k-means with k=10... Starting k-means with k=11... Starting k-means with k=12... Starting k-means with k=13... Starting k-means with k=14... Starting k-means with k=15... Starting k-means with k=16... Starting k-means with k=17... Starting k-means with k=18... Starting k-means with k=19... Starting k-means with k=20... Starting k-means with k=21... Starting k-means with k=22... Starting k-means with k=23... Starting k-means with k=24... Starting k-means with k=25... Starting k-means with k=26... Starting k-means with k=27... Starting k-means with k=28... Starting k-means with k=29... Starting k-means with k=30... Starting k-means with k=31... Starting k-means with k=32... Starting k-means with k=33... Starting k-means with k=34... Starting k-means with k=35... Starting k-means with k=36... Starting k-means with k=37... Starting k-means with k=38... Starting k-means with k=39... "
     ]
    }
   ],
   "source": [
    "# train the k-means model for different values of k\n",
    "kmeans_train_k = []\n",
    "for i in range(2,40):\n",
    "    print(\"Starting k-means with k=\" + str(i), end=\"... \")\n",
    "    clusters = KMeans.train(userFeatures, k = i)\n",
    "    wssse = clusters.computeCost(userFeatures)\n",
    "    kmeans_train_k.append([clusters, wssse])"
   ]
  },
  {
   "cell_type": "code",
   "execution_count": 50,
   "metadata": {},
   "outputs": [
    {
     "data": {
      "image/png": "[encoded data removed]",
      "text/plain": [
       "<matplotlib.figure.Figure at 0x7f23a3a96a58>"
      ]
     },
     "metadata": {},
     "output_type": "display_data"
    }
   ],
   "source": [
    "# plot the different heterogeneities\n",
    "scores = [x[1] for x in kmeans_train_k]\n",
    "\n",
    "plt.plot(range(2, len(kmeans_train_k)+2), scores, marker='o')\n",
    "plt.plot([13, 13], [75000, scores[13-2]], c='r', ls='--', alpha=0.5)\n",
    "plt.xlabel('Number of clusters')\n",
    "plt.ylabel('Heterogeneity')\n",
    "plt.grid()\n",
    "plt.show()"
   ]
  },
  {
   "cell_type": "markdown",
   "metadata": {},
   "source": [
    "<div class=\"alert alert-warning\" align=\"justify\">\n",
    "From the plot it is possible to see that the curve does not really have an elbow shape but it's slope decreases particularly after k=13, therefore we suppose this is the optimal number of clusters.\n",
    "</div>"
   ]
  },
  {
   "cell_type": "code",
   "execution_count": 83,
   "metadata": {},
   "outputs": [],
   "source": [
    "# retrain the model with the correct number of clusters\n",
    "clusters = KMeans.train(userFeatures, k = 13)\n",
    "\n",
    "# get the labels with the user features\n",
    "labelsRDD = clusters.predict(userFeatures)\n",
    "ID_features = model.userFeatures().map(lambda x: (x[0], list(x[1])))\n",
    "labels_featuresRDD = labelsRDD.zip(ID_features)"
   ]
  },
  {
   "cell_type": "markdown",
   "metadata": {},
   "source": [
    "<div class=\"alert alert-warning\" align=\"justify\">\n",
    "Now we need to take the top <i>nRelevantUsers</i> users belonging to the same cluster of the user we want to recommend and use their features to weight the final recommendation.\n",
    "</div>"
   ]
  },
  {
   "cell_type": "code",
   "execution_count": 84,
   "metadata": {},
   "outputs": [],
   "source": [
    "# user to recommend\n",
    "userID = 2093760\n",
    "\n",
    "# number of other users to consider in the recommendation\n",
    "nRelevantUsers = 2\n",
    "\n",
    "# find user's features and cluster label\n",
    "userLabelFeatures = labels_featuresRDD.filter(lambda x: x[1][0] == userID).collect()[0]\n",
    "userCluster = userLabelFeatures[0]\n",
    "userFeatures = userLabelFeatures[1][1]\n",
    "\n",
    "# get the center of the user' cluster\n",
    "clusterCenter = np.array(clusters.clusterCenters[userCluster])"
   ]
  },
  {
   "cell_type": "code",
   "execution_count": 85,
   "metadata": {},
   "outputs": [],
   "source": [
    "# get the features of the top N users by distance to the cluster center\n",
    "closestUsersFeatures = (\n",
    "    labels_featuresRDD.filter(lambda x: x[0] == userCluster) # get users belonging to the same cluster\n",
    "                    .map(lambda x: x[1])                     # filter out the cluster label\n",
    "                    .map(lambda x: (x[0], np.array(x[1])))   # make an np.array of user features\n",
    "                    .map(lambda x: (np.linalg.norm(x[1] - clusterCenter), x)) # compute distance from the cluster center\n",
    "                    .sortByKey()                             # sort by increasing distance\n",
    "                    .map(lambda x: x[1][1])                  # get the user features only\n",
    "                    .take(nRelevantUsers)                    # take the nRelevantUsers closer to the center\n",
    ")"
   ]
  },
  {
   "cell_type": "markdown",
   "metadata": {},
   "source": [
    "<div class=\"alert alert-warning\" align=\"justify\">\n",
    "To weight the recommendation we just sum the features of each user (the recommended and the ones belonging to his cluster) and we take the average.<br>\n",
    "Finally we obtain the ratings by multiplying the averaged user features for the productFeatures matrix and we recommend the top ratings.\n",
    "</div>"
   ]
  },
  {
   "cell_type": "code",
   "execution_count": 86,
   "metadata": {},
   "outputs": [
    {
     "name": "stdout",
     "output_type": "stream",
     "text": [
      "['Eminem', 'Outkast', 'Linkin Park', 'Green Day', 'Beastie Boys']\n"
     ]
    }
   ],
   "source": [
    "# weight the recommmendations\n",
    "sumOfFeatures = np.array(userFeatures)\n",
    "for feats in closestUsersFeatures:\n",
    "    sumOfFeatures += feats\n",
    "finalFeatures = sumOfFeatures/(nRelevantUsers + 1)\n",
    "\n",
    "# get the productFeatures matrix\n",
    "productsFeatures = model.productFeatures().map(lambda x: (x[0], np.array(x[1])))\n",
    "\n",
    "# broadcast the averaged user features to make the product with the product features\n",
    "bFinalFeatures = sc.broadcast(finalFeatures)\n",
    "\n",
    "def computeRating(features):\n",
    "    return features.dot(bFinalFeatures.value)\n",
    "\n",
    "recommendation = (\n",
    "    productsFeatures.map(lambda x: (-computeRating(x[1]), x[0]))\n",
    "                    .sortByKey()\n",
    "                    .map(lambda x: x[1])\n",
    "                    .take(5)\n",
    ")\n",
    "\n",
    "# get recommended artists names from their IDs\n",
    "recList = artistByID.filter(lambda x: x[0] in recommendation).values().collect()\n",
    "print(recList)"
   ]
  },
  {
   "cell_type": "markdown",
   "metadata": {},
   "source": [
    "<div class=\"alert alert-warning\" align=\"justify\">\n",
    "The final model provides us a degree of freedom: it is possible to decide wether to proceed with the standard recommendation (<i>nRelevantUsers = 0</i>) or to give more importance to the artists that are listened from users belonging to the same cluster (<i>nRelevantUsers > 0</i>).\n",
    "</div>"
   ]
  },
  {
   "cell_type": "markdown",
   "metadata": {},
   "source": [
    "#### 4.3.2 Features extraction"
   ]
  },
  {
   "cell_type": "markdown",
   "metadata": {},
   "source": [
    "<div class=\"alert alert-warning\" align=\"justify\">\n",
    "In order to further proceed in the implementation of the hybrid model, it is needed to have some content-based information.<br>\n",
    "The file `artists_tags.txt` contains the tags associated to each artist, one artist per line. The format of the file is as follow\n",
    " * artistID, tag_1, score_1, tag_2, score_2, ..., tag_n, score_n\n",
    " * ...\n",
    " * artistID, tag_1, score_1, tag_2, score_2, ..., tag_m, score_m\n",
    " \n",
    "where the score associated to each tag define how strong is the tag for that artist.<br><br>\n",
    "\n",
    "First of all we want to extract from the file the list of all the relevant tags, where by relevant we mean a tag which is at least associated to 100 artists. Then we'll clean the dataset by keeping just the relevant tags for each artist.\n",
    "</div>"
   ]
  },
  {
   "cell_type": "code",
   "execution_count": 51,
   "metadata": {},
   "outputs": [],
   "source": [
    "# read tags file\n",
    "tags_file = sc.textFile(\"artists_tags.txt\")\n",
    "\n",
    "# count occurrence of each tag\n",
    "tags_count = tags_file.flatMap(lambda line: [(x.lower(), 1) for i, x in enumerate(line.split(\", \")) if i%2==1]).reduceByKey(lambda a,b: a+b)\n",
    "\n",
    "# filter out all tags that do not appear at least k times\n",
    "tags_filtered = tags_count.filter(lambda x: x[1]>100)\n",
    "\n",
    "# get the list of tags\n",
    "tags = tags_filtered.map(lambda x: x[0])"
   ]
  },
  {
   "cell_type": "code",
   "execution_count": 52,
   "metadata": {},
   "outputs": [
    {
     "name": "stdout",
     "output_type": "stream",
     "text": [
      "Tags collected = 146263\n",
      "Tags filtered = 1925\n"
     ]
    }
   ],
   "source": [
    "print(\"Tags collected = \" + str(tags_count.count()))\n",
    "print(\"Tags filtered = \" + str(tags_filtered.count()))"
   ]
  },
  {
   "cell_type": "code",
   "execution_count": 53,
   "metadata": {},
   "outputs": [],
   "source": [
    "# clean the artists tags dataset\n",
    "bTags = sc.broadcast(tags.collect())\n",
    "\n",
    "# for each artist create a tuple where the first value is the artistID, the second is a dictionary where key=tag, value=tag_score\n",
    "artist_tags = (\n",
    "    tags_file.map(lambda line: line.split(\", \"))\n",
    "             .map(lambda x: (int(x[0]), {x[i]: int(x[i+1]) for i in range(1, len(x), 2)}))\n",
    ")"
   ]
  },
  {
   "cell_type": "markdown",
   "metadata": {},
   "source": [
    "<div class=\"alert alert-warning\" align=\"justify\">\n",
    "In order to make recommendations it is needed to associate tags to users, each user will have all the tags of all the artists he listened to. The  informations on the score of each tag, which can be extremely useful to make precise recommendations, will be kept by summing all the scores relative to the same tag.<br>\n",
    "However, since the user may have higher rating for an artist than another (i.e. higher play count), instead of performing a simple sum of the tags, we decided to implement a weighted sum of the scores, using the play count as weight of each of them.\n",
    "</div>"
   ]
  },
  {
   "cell_type": "code",
   "execution_count": 54,
   "metadata": {},
   "outputs": [],
   "source": [
    "from collections import Counter\n",
    "\n",
    "def addTags(line):\n",
    "    artist = b_artist_tags.value.get(int(line[1]), None)\n",
    "    if artist is None:\n",
    "        return None\n",
    "    return int(line[0]), int(line[1]), int(line[2]), artist\n",
    "    \n",
    "b_artist_tags = sc.broadcast(artist_tags.collectAsMap())\n",
    "users_file = sc.textFile(\"/datasets/lastfm/user_artist_data.txt\")\n",
    "\n",
    "# add tags of the artist to each pair user-artist. Output = (userID, artistID, playCount, dictionary<tag: weight>). Discard all entries for which tags are not available\n",
    "user_artist_tags = users_file.map(lambda x: x.split(' ')).map(addTags).filter(lambda x: x is not None)\n",
    "\n",
    "user_tags = (\n",
    "    user_artist_tags.map(lambda x: (x[0], {k: v*x[2] for k, v in x[3].items()})) # Weight tags with playCount. Output = (userID, dictionary<tag: weight*playCount>)\n",
    "                    .reduceByKey(lambda a, b: dict(Counter(a)+Counter(b))) # Merge dictionaries relative to the same user. Output = (userID, dictionary<tag: sum(weight*playCount)>)\n",
    ")"
   ]
  },
  {
   "cell_type": "code",
   "execution_count": 55,
   "metadata": {},
   "outputs": [],
   "source": [
    "# extract top 10 tags for each user\n",
    "user_top_tags = user_tags.map(lambda x: (x[0], dict(sorted(x[1].items(), key=lambda y: -y[1])[:10]))) "
   ]
  },
  {
   "cell_type": "markdown",
   "metadata": {},
   "source": [
    "#### 4.3.3 Mixing the approaches\n",
    "<div class=\"alert alert-warning\" align=\"justify\">\n",
    "In order to be able to mix the approaches we need to make sure we are working on compatible data. Unfortunatly the artists tags dataset contains a very small number of artists, therefore, we will need to remove a big portion of the userArtist dataset.<br><br>\n",
    "We now the importance of data, especially when doing applied machine learning, and we want to point out that we are using this dataset just to test the hybrid approach.\n",
    "</div>"
   ]
  },
  {
   "cell_type": "code",
   "execution_count": 63,
   "metadata": {},
   "outputs": [],
   "source": [
    "# get artist IDs present in the artist tags dataset\n",
    "artistIDs = artist_tags.map(lambda x: x[0]).collect()\n",
    "\n",
    "# since the list of artists in the artist tag dataset is small, it can be broadcasted\n",
    "bArtistIDs = sc.broadcast(artistIDs)\n",
    "\n",
    "# remove all entries from the userArtist dataset containing artists that are not in the artist tag dataset\n",
    "filteredUserArtist = (\n",
    "    cleanedArtistData.map(lambda x: (x[0][0], x[0][1], x[1]))\n",
    "                     .filter(lambda x: x[1] in bArtistIDs.value)\n",
    "                     .map(lambda r: Rating(r[0], r[1], r[2]))\n",
    "                     .repartition(4)\n",
    "                     .cache()\n",
    ")"
   ]
  },
  {
   "cell_type": "code",
   "execution_count": null,
   "metadata": {},
   "outputs": [],
   "source": [
    "# train a new model on the new dataset\n",
    "model = ALS.trainImplicit(filteredUserArtist, rank=params[0], iterations=5, lambda_=params[1], alpha=params[2])"
   ]
  },
  {
   "cell_type": "markdown",
   "metadata": {},
   "source": [
    "<div class=\"alert alert-warning\" align=\"justify\">\n",
    "Now that we trained a new model with the filtered dataset we can apply clustering on the user features as before and then m\n",
    "</div>"
   ]
  },
  {
   "cell_type": "code",
   "execution_count": null,
   "metadata": {},
   "outputs": [],
   "source": [
    "# apply clustering\n",
    "\n",
    "# get the matrix of user features\n",
    "userFeatures = model.userFeatures().map(lambda x: list(x[1]))\n",
    "\n",
    "# train the model with the an hypothetically correct number of clusters (due to time limits it is not possible to run again the elbow)\n",
    "clusters = KMeans.train(userFeatures, k = 13)\n",
    "\n",
    "# get the labels with the user features\n",
    "labelsRDD = clusters.predict(userFeatures)\n",
    "ID_features = model.userFeatures().map(lambda x: (x[0], list(x[1])))\n",
    "labels_featuresRDD = labelsRDD.zip(ID_features)\n",
    "\n",
    "# user to recommend\n",
    "userID = 2093760\n",
    "\n",
    "# number of other users to consider in the recommendation\n",
    "nRelevantUsers = 2\n",
    "\n",
    "# find user's features and cluster label\n",
    "userLabelFeatures = labels_featuresRDD.filter(lambda x: x[1][0] == userID).collect()[0]\n",
    "userCluster = userLabelFeatures[0]\n",
    "userFeatures = userLabelFeatures[1][1]\n",
    "\n",
    "# get the center of the user' cluster\n",
    "clusterCenter = np.array(clusters.clusterCenters[userCluster])\n",
    "\n",
    "# get the features of the top N users by distance to the cluster center\n",
    "closestUsersFeatures = (\n",
    "    labels_featuresRDD.filter(lambda x: x[0] == userCluster) # get users belonging to the same cluster\n",
    "                    .map(lambda x: x[1])                     # filter out the cluster label\n",
    "                    .map(lambda x: (x[0], np.array(x[1])))   # make an np.array of user features\n",
    "                    .map(lambda x: (np.linalg.norm(x[1] - clusterCenter), x)) # compute distance from the cluster center\n",
    "                    .sortByKey()                             # sort by increasing distance\n",
    "                    .map(lambda x: x[1][1])                  # get the user features only\n",
    "                    .take(nRelevantUsers)                    # take the nRelevantUsers closer to the center\n",
    ")\n",
    "\n",
    "# weight the recommmendations\n",
    "sumOfFeatures = np.array(userFeatures)\n",
    "for feats in closestUsersFeatures:\n",
    "    sumOfFeatures += feats\n",
    "finalFeatures = sumOfFeatures/(nRelevantUsers + 1)\n",
    "\n",
    "# get the productFeatures matrix\n",
    "productsFeatures = model.productFeatures().map(lambda x: (x[0], np.array(x[1])))\n",
    "\n",
    "# broadcast the averaged user features to make the product with the product features\n",
    "bFinalFeatures = sc.broadcast(finalFeatures)\n",
    "\n",
    "def computeRating(features):\n",
    "    return features.dot(bFinalFeatures.value)\n",
    "\n",
    "recommendationRatings = (\n",
    "    productsFeatures.map(lambda x: (-computeRating(x[1]), x[0]))\n",
    "                    .sortByKey()\n",
    ")\n",
    "\n",
    "recommendation = (\n",
    "                    recommendationRatings.map(lambda x: x[1])\n",
    "                    .take(20)\n",
    ")\n",
    "\n",
    "# get recommended artists names from their IDs\n",
    "recList = artistByID.filter(lambda x: x[0] in recommendation).values().collect()\n",
    "print(\"artists recommended with user features clustering:\")\n",
    "print(recList)"
   ]
  },
  {
   "cell_type": "markdown",
   "metadata": {},
   "source": [
    "<div class=\"alert alert-warning\" align=\"justify\">\n",
    "Now that we have got the recommendation for the users 2093760 with the correct model and the tags for each user, let's extract the tags of the user we want to recommend to add a content-based component to the recommendation system.\n",
    "</div>"
   ]
  },
  {
   "cell_type": "code",
   "execution_count": null,
   "metadata": {},
   "outputs": [],
   "source": [
    "# get the main tags of user 2093760\n",
    "target_user_tags = user_top_tags.filter(lambda x: x[0] == 2093760).collect()[0][1]\n",
    "\n",
    "# get the main tags of the most relevant users in the cluster\n",
    "cluster_rec_tags = artist_tags.filter(lambda x: x[0] in recommendationIDs)"
   ]
  },
  {
   "cell_type": "markdown",
   "metadata": {},
   "source": [
    "<div class=\"alert alert-warning\" align=\"justify\">\n",
    "Initially we need to assign a tag score to each artist in the recommendation coming from the clustering part. This score is computed as the weighted sum of the tags values of the artist, weighted on the most relevant tags values of the user.<br>\n",
    "In order to better understand this score it could be thought as the distance from the \"center of taste\" of the user which is the list of is most relevant tags.\n",
    "</div>"
   ]
  },
  {
   "cell_type": "code",
   "execution_count": 95,
   "metadata": {},
   "outputs": [],
   "source": [
    "contentFactor = 100\n",
    "\n",
    "# broadcast user tags and their sum to assign scores\n",
    "bTargetTags = sc.broadcast(target_user_tags)\n",
    "sumOfCoreTags = np.sum([v for v in target_user_tags.values()])\n",
    "bSumOfTags = sc.broadcast(sumOfCoreTags)\n",
    "\n",
    "# the score is the sum of the tags values weighted on the user tags values and normalized on their sum\n",
    "def assignScore(artistTags):\n",
    "    tot = bSumOfTags.value\n",
    "    targetTags = bTargetTags.value\n",
    "    score = 0\n",
    "    for k, v in artistTags.items():\n",
    "        weight = targetTags.get(k)\n",
    "        score += weight * v\n",
    "    return score / tot\n",
    "\n",
    "# get the scores for the recommendations from the clustering\n",
    "scores = (\n",
    "    cluster_rec_tags.map(lambda x: (x[0], {k: v for k, v in x[1].items() if k in bTargetTags.value}))\n",
    "                    .map(lambda x: (x[0], assignScore(x[1]))).collect()\n",
    ")"
   ]
  },
  {
   "cell_type": "markdown",
   "metadata": {},
   "source": [
    "<div class=\"alert alert-warning\" align=\"justify\">\n",
    "In order to compute the final recommendation we assign to each artist of the \"clustering recommendation\" a score computed as the sum of the rating and the tag score previously computed multiplied by a \"content factor\". This content factor allows to choose how similar to the original taste of the user the recommendation should be.\n",
    "</div>"
   ]
  },
  {
   "cell_type": "code",
   "execution_count": null,
   "metadata": {},
   "outputs": [],
   "source": [
    "bScores = sc.broadcast(scores)\n",
    "bContentFactor = sc.broadcast(contentFactor)\n",
    "\n",
    "# the final score is the sum between the rating and the tagScore previously assigned\n",
    "def finalScore(data):\n",
    "    artistID = data[0]\n",
    "    ratingScore = data[1]\n",
    "    if artistID in [x[0] for x in bScores.value]:\n",
    "        tagScore = [x[1] for x in bScores.value if x[0] == artistID][0]\n",
    "    else:\n",
    "        tagScore = 0\n",
    "       \n",
    "    return (-(ratingScore + bContentFactor.value * tagScore), artistID)\n",
    "    \n",
    "\n",
    "# get recommendations IDs\n",
    "recommendationClustering = (\n",
    "    recommendationRatings.map(lambda x: (x[1], -(x[0]))).map(lambda x: finalScore(x)).sortByKey().map(lambda x: x[1])\n",
    "                    .take(5)\n",
    ")\n",
    "\n",
    "# get recommendations names\n",
    "recList = artistByID.filter(lambda x: x[0] in recommendationClustering).values().collect()\n",
    "print(recList)"
   ]
  },
  {
   "cell_type": "markdown",
   "metadata": {},
   "source": [
    "<div class=\"alert alert-warning\" align=\"justify\">\n",
    "The power of this hybrid model stands in his flexibility. Thanks to the <i>contentFactor</i> and the <i>nRelevantUsers</i> parameters it is possible to adapt the recommendation to the data and better take care of the user and item cold start scenarios.\n",
    "</div>"
   ]
  },
  {
   "cell_type": "markdown",
   "metadata": {},
   "source": [
    "# Summary\n",
    "\n",
    "In this notebook, we introduce an algorithm to do matrix factorization and the way of using it to make recommendation. Further more, we studied how to build a large-scale recommender system on SPARK using ALS algorithm and evaluate its quality. Finally, a simple approach to choose good parameters is mentioned."
   ]
  },
  {
   "cell_type": "markdown",
   "metadata": {},
   "source": [
    "## Final considerations\n",
    "<div class=\"alert alert-warning\" align=\"justify\">\n",
    "As previously noted multiple times, one of the biggest limitations encountered in this notebook is about the evaluation metric: the auc-method is just one of the possible approaches to evaluate the performance of the model.<br> Moreover, we validated the models on just one test set and training set, therefore the evaluation is \"biased\" over the test set we used and the comparison between different models is not as accurate as if we would have used k-fold cross validation and averaged over the different results obtained.<br><br>\n",
    "\n",
    "Another comment as to be made regarding the parameters of the ALS model, due to the heavy computational cost we just tried 8 possible combinations of parameters but a more accurate result could have been obtained by increasing the granularity of the parameters' ranges.<br><br>\n",
    "\n",
    "Finally, it is necessary to emphasize again the importance of having a big dataset in order to have more freedom in the model choice (accuracy of different models converges as the sice of the dataset increases) and a clean dataset because in order to have a good output from the model, we need to feed him good, clean, input data.\n",
    "</div>"
   ]
  },
  {
   "cell_type": "markdown",
   "metadata": {},
   "source": [
    "# References\n",
    "\n",
    "- The example in section 2 is taken from [Recommender system](infolab.stanford.edu/~ullman/mmds/ch9.pdf)"
   ]
  },
  {
   "cell_type": "code",
   "execution_count": null,
   "metadata": {},
   "outputs": [],
   "source": []
  }
 ],
 "metadata": {
  "kernelspec": {
   "display_name": "Python 3",
   "language": "python",
   "name": "python3"
  },
  "language_info": {
   "codemirror_mode": {
    "name": "ipython",
    "version": 3
   },
   "file_extension": ".py",
   "mimetype": "text/x-python",
   "name": "python",
   "nbconvert_exporter": "python",
   "pygments_lexer": "ipython3",
   "version": "3.6.4"
  }
 },
 "nbformat": 4,
 "nbformat_minor": 2
}
